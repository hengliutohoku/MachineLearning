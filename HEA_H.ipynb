{
 "cells": [
  {
   "cell_type": "code",
   "execution_count": 1,
   "id": "106f324d-3dcf-4699-b030-7712f502d036",
   "metadata": {},
   "outputs": [],
   "source": [
    "from ase.db import connect\n",
    "import pandas as pd\n",
    "from ase import Atoms, Atom\n",
    "from ase.constraints import FixAtoms\n",
    "from ase.build import fcc111, add_adsorbate\n",
    "import numpy as np\n",
    "import itertools as it\n",
    "from copy import deepcopy\n",
    "import os\n",
    "import shutil\n",
    "from ase.io import read, write\n",
    "from ase import Atoms\n",
    "from ase.visualize import view"
   ]
  },
  {
   "cell_type": "code",
   "execution_count": 2,
   "id": "f3ae425d-9fec-4a06-8965-9812ef041754",
   "metadata": {},
   "outputs": [],
   "source": [
    "from sklearn.model_selection import train_test_split\n",
    "import numpy as np\n",
    "import pandas as pd\n",
    "import random\n",
    "from sklearn.svm import SVC\n",
    "from sklearn.metrics import accuracy_score\n",
    "from sklearn.metrics import f1_score\n",
    "import pandas as pd\n",
    "import numpy as np\n",
    "from scipy import interpolate\n",
    "from pymatgen.ext.matproj import MPRester\n",
    "import numpy as np\n",
    "import matplotlib.pyplot as plt\n",
    "import seaborn as sns\n",
    "import random\n",
    "import pymatgen as mg\n",
    "import random\n",
    "import math\n",
    "# import torch\n",
    "from sklearn import preprocessing\n",
    "from sklearn.ensemble import RandomForestRegressor\n",
    "from sklearn.ensemble import RandomForestClassifier\n",
    "import matplotlib.pyplot as plt    \n",
    "from sklearn.model_selection import train_test_split,cross_val_score, KFold, GridSearchCV\n",
    "from sklearn.metrics import r2_score, mean_squared_error\n",
    "from sklearn.svm import SVR\n",
    "from sklearn.svm import SVC\n",
    "from sklearn.preprocessing import StandardScaler\n",
    "from sklearn.cluster import KMeans\n",
    "from __future__ import division, print_function\n",
    "from libsvm.svmutil import *\n",
    "from sklearn.metrics import roc_auc_score\n",
    "from sklearn.metrics import confusion_matrix\n",
    "import pandas as pd\n",
    "import matplotlib.pyplot as plt\n",
    "from sklearn.metrics import accuracy_score, average_precision_score,precision_score,f1_score,recall_score\n",
    "from sklearn.utils import shuffle\n",
    "from scipy import interp\n",
    "from sklearn.metrics import roc_curve, auc, roc_auc_score\n",
    "import seaborn as sns\n",
    "\n",
    "#-- MATMINER\n",
    "from matminer.featurizers.conversions import StrToComposition\n",
    "\n",
    "#-- SKLEARN\n",
    "from sklearn.utils import shuffle\n",
    "from sklearn.impute import SimpleImputer\n",
    "from sklearn.ensemble import GradientBoostingRegressor\n",
    "from sklearn.ensemble import RandomForestRegressor\n",
    "from sklearn import datasets, linear_model\n",
    "from sklearn.model_selection import cross_val_predict, cross_val_score, validation_curve\n",
    "from sklearn.model_selection import train_test_split\n",
    "from sklearn.model_selection import GridSearchCV\n",
    "from sklearn.svm import SVR\n",
    "from matminer.featurizers.conversions import StrToComposition\n",
    "from matminer.featurizers.base import MultipleFeaturizer\n",
    "from matminer.featurizers import composition as cf\n",
    "\n",
    "#-- SEABORN\n",
    "import seaborn as sns\n"
   ]
  },
  {
   "cell_type": "code",
   "execution_count": null,
   "id": "0b7f2015-a0dc-4e49-b243-acfde5a6490a",
   "metadata": {},
   "outputs": [],
   "source": [
    "#generate 2*2*1 supercell\n",
    "def write_super_cell(path_origin):\n",
    "    structure = read(path_origin)\n",
    "    super_structure = structure * (2, 2, 1)\n",
    "    return super_structure\n",
    "    #write('F:/work in tohoku/a_research_work/i_Nottingham_Ling/HEA-H-CO-DFT-ref-data/alloy+CO-dft-ref-data/CONTCAR.3.35-repeat.vasp', structure * (2, 2, 1), direct=False,sort=True)"
   ]
  },
  {
   "cell_type": "code",
   "execution_count": null,
   "id": "fdff4ef9-185a-413c-926b-63c04b2fa1f5",
   "metadata": {},
   "outputs": [],
   "source": [
    "#define carbon positions\n",
    "def H_position(super_structure):\n",
    "    nearest_atom_index = None\n",
    "    min_distance = float('inf')\n",
    "    H_positions = [atom.position for atom in super_structure if atom.symbol == 'H']\n",
    "    H_layer_index = [i for i, atom in enumerate(super_structure) if atom.symbol == 'H']\n",
    "    return H_positions,H_layer_index"
   ]
  },
  {
   "cell_type": "code",
   "execution_count": null,
   "id": "89e61a6b-f8cf-4be9-a963-b9198ad1e472",
   "metadata": {},
   "outputs": [],
   "source": [
    "#get the index of the top layer atom and second layer atom\n",
    "all_atoms = ['Cr','Mn','Fe','Co','Ni','Cu','H']\n",
    "metal_atoms = ['Cr','Mn','Fe','Co','Ni','Cu']\n",
    "def top_second_layer(super_structure,all_atoms,metal_atoms,H_positions):\n",
    "    # 获取参考金属/氧原子的z坐标\n",
    "    metal_positions = [atom.position for atom in super_structure if atom.symbol in all_atoms]\n",
    "    reference_z = H_positions[0][2]\n",
    "    # 确定参考原子所在的层\n",
    "    threshold_value_top = 3.5\n",
    "    threshold_value_second = 5\n",
    "    while True:\n",
    "        top_layer_index = [i for i, atom in enumerate(super_structure) if atom.symbol in metal_atoms and abs(abs(atom.position[2]) - abs(reference_z)) < threshold_value_top]\n",
    "        \n",
    "#get the index of the top layer atom        \n",
    "        if len(top_layer_index) == 144:\n",
    "            #print(len(top_layer_index))\n",
    "            top_layer_index = top_layer_index\n",
    "            break\n",
    "        elif len(top_layer_index) < 144:\n",
    "            threshold_value_top +=0.1\n",
    "        elif len(top_layer_index) > 144:\n",
    "            threshold_value_top -=0.1\n",
    "    top_layer_atoms = [super_structure[i] for i in top_layer_index]\n",
    "#get the index of the second layer atom    \n",
    "    while True:\n",
    "        second_layer_index = [i for i, atom in enumerate(super_structure) if atom.symbol in metal_atoms and abs(abs(atom.position[2]) - abs(reference_z)) > threshold_value_top and abs(abs(atom.position[2]) - abs(reference_z)) < threshold_value_second]\n",
    "        if len(second_layer_index) == 144:\n",
    "            #print(len(second_layer_index))\n",
    "            second_layer_index = second_layer_index\n",
    "            break\n",
    "        elif len(second_layer_index) < 144:\n",
    "            #print(len(second_layer_index))\n",
    "            threshold_value_second +=0.1\n",
    "        elif len(second_layer_index) > 144:\n",
    "            #print(len(second_layer_index))\n",
    "            threshold_value_second -=0.1\n",
    "    second_layer_atoms = [super_structure[i] for i in second_layer_index]\n",
    "    return top_layer_index, second_layer_index,top_layer_atoms,second_layer_atoms"
   ]
  },
  {
   "cell_type": "code",
   "execution_count": null,
   "id": "ff22fed5-ce94-4b12-9043-97c2f0ab7c92",
   "metadata": {},
   "outputs": [],
   "source": [
    "def find_center_atom(super_structure, indices):\n",
    "    positions = [super_structure[i].position for i in indices]\n",
    "    center_position = np.mean(positions, axis=0)\n",
    "    distances = [np.linalg.norm(pos - center_position) for pos in positions]\n",
    "    center_atom_index = indices[np.argmin(distances)]\n",
    "    return center_atom_index"
   ]
  },
  {
   "cell_type": "code",
   "execution_count": null,
   "id": "d1caf695-cc14-4f98-9ff1-afd6f25becb9",
   "metadata": {},
   "outputs": [],
   "source": [
    "def get_adsorb_site_surrounded_three(H_positions, H_layer_index, top_layer_atoms, top_layer_index):\n",
    "    adsorb_site_surrounded_three_all = []\n",
    "    H_position_final_ad_all = []\n",
    "    threshold_distance = 3.5\n",
    "\n",
    "    while len(adsorb_site_surrounded_three_all) == 0:\n",
    "        for i in range(len(H_positions)):  \n",
    "            # 获取距离最近的六个原子的索引和距离\n",
    "            distances_top = [np.linalg.norm(atom.position - H_positions[i]) for atom in top_layer_atoms]\n",
    "            sorted_indices = sorted(range(len(distances_top)), key=lambda j: distances_top[j])[0:6]\n",
    "            nearest_atoms = [(top_layer_index[k], top_layer_atoms[k].symbol, distances_top[k]) for k in sorted_indices]\n",
    "            metal_surrd_adsorb = 0\n",
    "            for m in range(len(nearest_atoms)):\n",
    "                dis = nearest_atoms[m][-1]\n",
    "                if dis < threshold_distance:\n",
    "                    metal_surrd_adsorb += 1\n",
    "            print(metal_surrd_adsorb)\n",
    "            if metal_surrd_adsorb == 6:\n",
    "                adsorb_site_surrounded_three_all.append([H_layer_index[i], nearest_atoms])\n",
    "                H_position_final_ad = H_positions[i]\n",
    "                H_position_final_ad_all.append(H_position_final_ad)\n",
    "        \n",
    "        if len(adsorb_site_surrounded_three_all) == 0:\n",
    "            threshold_distance += 0.1\n",
    "    \n",
    "    return adsorb_site_surrounded_three_all, H_position_final_ad_all"
   ]
  },
  {
   "cell_type": "code",
   "execution_count": null,
   "id": "59443723-b92a-47bc-a563-1dbfe10d1056",
   "metadata": {},
   "outputs": [],
   "source": [
    "def adsorb_H_index(super_structure,H_position_final_ad_all,center_atom_position,adsorb_site_surrounded_three_all):\n",
    "    distances_to_center = np.linalg.norm(H_position_final_ad_all - center_atom_position, axis=1)   \n",
    "    # 找到最近的氢原子\n",
    "    closest_H_index = np.argmin(distances_to_center)\n",
    "    closest_H_coords = H_position_final_ad_all[closest_H_index]\n",
    "    adsorb_site_index = adsorb_site_surrounded_three_all[closest_H_index][0]\n",
    "    atom_surround_adsorb_site = adsorb_site_surrounded_three_all[closest_H_index][1]\n",
    "    return adsorb_site_index,atom_surround_adsorb_site"
   ]
  },
  {
   "cell_type": "code",
   "execution_count": null,
   "id": "d1de478b-a221-4f0d-b670-bfc7bebf67ae",
   "metadata": {},
   "outputs": [],
   "source": [
    "def get_first_three(atom_surround_adsorb_site):\n",
    "    atom_list = []\n",
    "    for item in atom_surround_adsorb_site:\n",
    "        atom = item[1]  # 获取原子的符号\n",
    "        atom_list.append(atom)\n",
    "    first_atom = atom_list[0:3]\n",
    "    return first_atom"
   ]
  },
  {
   "cell_type": "code",
   "execution_count": null,
   "id": "15c4b5d4-52ef-41eb-a441-dac3da2ee7c8",
   "metadata": {},
   "outputs": [],
   "source": [
    "def first_three_position(super_structure,atom_surround_adsorb_site):\n",
    "    atom_surround_adsorb_site_first_three = atom_surround_adsorb_site[0:3]\n",
    "    # 打印这些原子的坐标\n",
    "    position_three = []\n",
    "    three_index = []\n",
    "    for atoms_i in atom_surround_adsorb_site_first_three:\n",
    "        index = atoms_i[0]\n",
    "        position = super_structure[index].position\n",
    "        position_three.append(position)\n",
    "        three_index.append(index)\n",
    "    return position_three, three_index"
   ]
  },
  {
   "cell_type": "code",
   "execution_count": null,
   "id": "0d9b5113-800b-4c81-ae75-b5b5a1cef50f",
   "metadata": {},
   "outputs": [],
   "source": []
  },
  {
   "cell_type": "code",
   "execution_count": null,
   "id": "ad17bd1b-b040-4924-8c8f-bacdb4d995b1",
   "metadata": {},
   "outputs": [],
   "source": [
    "# 计算并打印两两之间的中点\n",
    "def calculate_midpoint(position_three):\n",
    "    midpoints = []\n",
    "    for i in range(len(position_three)):\n",
    "        for j in range(i + 1, len(position_three)):\n",
    "            midpoint = (position_three[i]+position_three[j])/2\n",
    "            midpoints.append(midpoint)\n",
    "    return midpoints"
   ]
  },
  {
   "cell_type": "code",
   "execution_count": null,
   "id": "8d88956b-6a8a-4c1c-b65e-9c292307dd54",
   "metadata": {},
   "outputs": [],
   "source": [
    "def get_second_surrounded_three(top_layer_atoms,midpoints,three_index):\n",
    "    second_three_atom_top_list = []\n",
    "    for i in range(len(midpoints)):\n",
    "        midpoints_i = midpoints[i]\n",
    "        distances_top = [np.linalg.norm(atom.position - midpoints_i) for atom in top_layer_atoms]\n",
    "        sorted_indices = sorted(range(len(distances_top)), key=lambda j: distances_top[j])[0:4]\n",
    "        nearest_atoms = [(top_layer_index[k], top_layer_atoms[k].symbol, distances_top[k]) for k in sorted_indices]\n",
    "        for j in range(4):\n",
    "            nearest_index = nearest_atoms[j][0]\n",
    "            nearest_atom = nearest_atoms[j][1]\n",
    "            nearest_atom_distance = nearest_atoms[j][2]\n",
    "            if nearest_index in three_index:\n",
    "                #print('1')\n",
    "                continue\n",
    "            else:\n",
    "                second_three_atom_top_list.append([nearest_index,nearest_atom,nearest_atom_distance])\n",
    "    return second_three_atom_top_list"
   ]
  },
  {
   "cell_type": "code",
   "execution_count": null,
   "id": "60b385d1-b703-4d3f-afa5-4c24ec868bb2",
   "metadata": {},
   "outputs": [],
   "source": [
    "def get_surround_three_second(super_structure,second_layer_atoms,adsorb_site_index):\n",
    "    distances_second = [np.linalg.norm(atom.position - super_structure[adsorb_site_index].position) for atom in second_layer_atoms]\n",
    "    sorted_indices = sorted(range(len(distances_second)), key=lambda j: distances_second[j])[0:3]\n",
    "    second_nearest_atoms = [(second_layer_index[k], second_layer_atoms[k].symbol, distances_second[k]) for k in sorted_indices]\n",
    "    return second_nearest_atoms"
   ]
  },
  {
   "cell_type": "code",
   "execution_count": null,
   "id": "f32d0dee-d707-42ca-a552-d39c0f026b16",
   "metadata": {},
   "outputs": [],
   "source": [
    "def count_atom_number(index_name_distance):\n",
    "    atom_counts = {}\n",
    "    # 遍历数据并统计每种原子的数量\n",
    "    for item in index_name_distance:\n",
    "        atom = item[1]  # 获取原子的符号\n",
    "        if atom in atom_counts:\n",
    "            atom_counts[atom] += 1  # 如果原子已经在字典中，则将计数加1\n",
    "        else:\n",
    "            atom_counts[atom] = 1  # 如果原子不在字典中，则将计数初始化为1\n",
    "    return atom_counts"
   ]
  },
  {
   "cell_type": "code",
   "execution_count": null,
   "id": "da41c633-4402-4162-9733-da2733f98ba2",
   "metadata": {},
   "outputs": [],
   "source": [
    "configuration_list = np.linspace(0,1,2)\n",
    "adsorption_list = np.linspace(0,1,2)"
   ]
  },
  {
   "cell_type": "code",
   "execution_count": null,
   "id": "122dd15d-72a6-4157-8aca-45e24c6846a9",
   "metadata": {},
   "outputs": [],
   "source": [
    "configuration_list = np.linspace(0,24,25)\n",
    "adsorption_list = np.linspace(0,143,144)"
   ]
  },
  {
   "cell_type": "code",
   "execution_count": 15,
   "id": "3a9590de-7416-4708-9cd0-7bfa7cc9460f",
   "metadata": {},
   "outputs": [],
   "source": [
    "from itertools import combinations_with_replacement\n",
    "\n",
    "metal_atoms = ['Cr', 'Mn', 'Fe', 'Co', 'Ni', 'Cu']\n",
    "combinations = list(combinations_with_replacement(metal_atoms, 3))"
   ]
  },
  {
   "cell_type": "code",
   "execution_count": null,
   "id": "fa6b85c1-1030-44eb-b273-a6430332ec27",
   "metadata": {},
   "outputs": [],
   "source": [
    "features_fcc_all = pd.DataFrame()\n",
    "features_hcp_all = pd.DataFrame()\n",
    "for i in configuration_list:\n",
    "    print(i)\n",
    "    for j in adsorption_list:\n",
    "        print(j)\n",
    "        path = r'F:/work in tohoku/a_research_work/i_Nottingham_Ling/alloy+H-dft-POSCAR/' + 'POSCAR.' + str(int(i)) + '.' + str(int(j))\n",
    "        super_structure = write_super_cell(path)\n",
    "        H_positions,H_layer_index = H_position(super_structure)\n",
    "        top_layer_index, second_layer_index,top_layer_atoms,second_layer_atoms = top_second_layer(super_structure,all_atoms,metal_atoms,H_positions)        \n",
    "        center_atom_index = find_center_atom(super_structure, top_layer_index)\n",
    "        center_atom_position = super_structure[center_atom_index].position\n",
    "        adsorb_site_surrounded_three_all,H_position_final_ad_all = get_adsorb_site_surrounded_three(H_positions,H_layer_index,top_layer_atoms,top_layer_index)\n",
    "        adsorb_site_index,atom_surround_adsorb_site= adsorb_H_index(super_structure,H_position_final_ad_all,center_atom_position,adsorb_site_surrounded_three_all)        \n",
    "        position_three, three_index = first_three_position(super_structure,atom_surround_adsorb_site)\n",
    "        midpoints = calculate_midpoint(position_three)\n",
    "        second_three_atom_top_list = get_second_surrounded_three(top_layer_atoms,midpoints,three_index)\n",
    "        atom_counts_1_layersecond_top = count_atom_number(second_three_atom_top_list)\n",
    "        second_nearest_atoms = get_surround_three_second(super_structure,second_layer_atoms,adsorb_site_index)\n",
    "        first_atom = get_first_three(atom_surround_adsorb_site)        \n",
    "\n",
    "        \n",
    "        features = []\n",
    "        features.append('alloy+H-' +str(int(i)) + '-' + str(int(j)))\n",
    "        for m_i in range(len(combinations)):\n",
    "            com_i = combinations[m_i]\n",
    "            sorted_com_i = sorted(com_i)\n",
    "            sorted_first_atom = sorted(first_atom)\n",
    "            if sorted_first_atom == sorted_com_i:\n",
    "                features.append(1)\n",
    "            else:\n",
    "                features.append(0)   \n",
    "                   \n",
    "        for m_k in metal_atoms:\n",
    "            if m_k in atom_counts_1_layersecond_top:\n",
    "                atom_count = atom_counts_1_layersecond_top[m_k]\n",
    "                features.append(atom_count)\n",
    "            else:\n",
    "                features.append(0)\n",
    "                    \n",
    "       \n",
    "        diff_1_2_atom = abs(second_nearest_atoms[0][-1] - second_nearest_atoms[1][-1])\n",
    "        if diff_1_2_atom>0.2:\n",
    "            second_layer_results = second_nearest_atoms[0]\n",
    "            second_site = second_nearest_atoms[0][1]\n",
    "            for m_j in metal_atoms:\n",
    "                if m_j == second_site:\n",
    "                    features.append(1)\n",
    "                else:\n",
    "                    features.append(0)\n",
    "                    \n",
    "        elif diff_1_2_atom<0.2:\n",
    "            second_layer_second = count_atom_number(second_nearest_atoms) \n",
    "            for m_j in metal_atoms:\n",
    "                if m_j in second_layer_second:\n",
    "                    atom_count = second_layer_second[m_j]\n",
    "                    features.append(atom_count)\n",
    "                else:\n",
    "                    features.append(0)\n",
    "        if diff_1_2_atom>0.2:\n",
    "            write(r'F:/work in tohoku/a_research_work/i_Nottingham_Ling/alloy+H-dft-POSCAR/supercell_update/hcp/' + 'POSCAR_super.'+str(int(i)) + '.' + str(int(j)), super_structure, direct=False,sort=True)\n",
    "        \n",
    "            features_pd = pd.DataFrame(features).T\n",
    "            features_hcp_all = pd.concat([features_hcp_all,features_pd],axis = 0)\n",
    "\n",
    "        elif diff_1_2_atom<0.2:\n",
    "            write(r'F:/work in tohoku/a_research_work/i_Nottingham_Ling/alloy+H-dft-POSCAR/supercell_update/fcc/' + 'POSCAR_super.'+str(int(i)) + '.' + str(int(j)), super_structure, direct=False,sort=True)\n",
    "        \n",
    "            features_pd = pd.DataFrame(features).T\n",
    "            features_fcc_all = pd.concat([features_fcc_all,features_pd],axis = 0)"
   ]
  },
  {
   "cell_type": "code",
   "execution_count": null,
   "id": "0a55ce27-eb6a-47b4-b2e5-2b6b74aa2d1a",
   "metadata": {},
   "outputs": [],
   "source": [
    "adsorb_site_surrounded_three_all"
   ]
  },
  {
   "cell_type": "code",
   "execution_count": 16,
   "id": "2f7e118e-e12b-4ebc-bcd2-af65db9b8039",
   "metadata": {},
   "outputs": [],
   "source": [
    "columns_name = ['Num.'] + [i for i in combinations] + ['Cr','Mn','Fe','Co','Ni','Cu','Cr','Mn','Fe','Co','Ni','Cu']"
   ]
  },
  {
   "cell_type": "code",
   "execution_count": null,
   "id": "7887ad40-98fd-410a-a6e2-c9afafce4f0d",
   "metadata": {},
   "outputs": [],
   "source": [
    "features_fcc_all.columns = columns_name\n",
    "features_hcp_all.columns = columns_name"
   ]
  },
  {
   "cell_type": "code",
   "execution_count": null,
   "id": "dc106a59-e6f8-4124-bcaf-ec7df5925309",
   "metadata": {},
   "outputs": [],
   "source": [
    "features_fcc_all.to_excel('F:/work in tohoku/a_research_work/i_Nottingham_Ling/features/fcc/update_features_fcc_POSCAR_all.xlsx')\n",
    "features_hcp_all.to_excel('F:/work in tohoku/a_research_work/i_Nottingham_Ling/features/hcp/update_features_hcp_POSCAR_all.xlsx')"
   ]
  },
  {
   "cell_type": "code",
   "execution_count": null,
   "id": "b08c474e-fff1-473b-aaf4-0d90416defed",
   "metadata": {},
   "outputs": [],
   "source": [
    "features_hcp_all_origin= pd.read_excel('F:/work in tohoku/a_research_work/i_Nottingham_Ling/features/fcc/features_hcp_POSCAR_all.xlsx',index_col=0)\n",
    "features_hcp_all_update = pd.read_excel('F:/work in tohoku/a_research_work/i_Nottingham_Ling/features/hcp/update_features_hcp_POSCAR_all.xlsx',index_col=0)"
   ]
  },
  {
   "cell_type": "code",
   "execution_count": null,
   "id": "7b595d0f-6374-40d5-b430-085ffb8842c7",
   "metadata": {},
   "outputs": [],
   "source": [
    "# 合并两个 DataFrame，按 'Num.' 列\n",
    "merged_df = pd.merge(features_hcp_all_origin, features_hcp_all_update, on='Num.', suffixes=('_POSCAR', '_CONTCAR'))\n",
    "\n",
    "# 比较其他列\n",
    "comparison_columns = [col for col in merged_df.columns if col.endswith('_POSCAR')]\n",
    "\n",
    "# 创建比较结果 DataFrame\n",
    "comparison_results = merged_df[comparison_columns].eq(merged_df[[col.replace('_POSCAR', '_CONTCAR') for col in comparison_columns]].values)\n",
    "\n",
    "# 找出不同的值\n",
    "differences = merged_df[~comparison_results.all(axis=1)]\n"
   ]
  },
  {
   "cell_type": "code",
   "execution_count": null,
   "id": "1cd1d845-264b-4994-a24c-41bdc87b50a5",
   "metadata": {},
   "outputs": [],
   "source": [
    "differences.to_excel('F:/work in tohoku/a_research_work/i_Nottingham_Ling/features/fcc/shn.xlsx')"
   ]
  },
  {
   "cell_type": "code",
   "execution_count": null,
   "id": "8e0bb359-b16c-4a7f-9edd-32e647376a72",
   "metadata": {},
   "outputs": [],
   "source": []
  },
  {
   "cell_type": "code",
   "execution_count": null,
   "id": "c7e49d52-7cc1-4900-97e0-51272f46f3a4",
   "metadata": {},
   "outputs": [],
   "source": [
    "features_fcc_all = pd.DataFrame()\n",
    "features_hcp_all = pd.DataFrame()\n",
    "for i in configuration_list:\n",
    "    print(i)\n",
    "    for j in adsorption_list:\n",
    "        try:\n",
    "            print(j)\n",
    "            path = r'F:/work in tohoku/a_research_work/i_Nottingham_Ling/HEA-H-CO-DFT-ref-data/alloy+H-dft-ref-data/alloy+H-dft-ref-data/' + 'CONTCAR.' + str(int(i)) + '.' + str(int(j))\n",
    "            super_structure = write_super_cell(path)\n",
    "            H_positions,H_layer_index = H_position(super_structure)\n",
    "            top_layer_index, second_layer_index,top_layer_atoms,second_layer_atoms = top_second_layer(super_structure,all_atoms,metal_atoms,H_positions)        \n",
    "            center_atom_index = find_center_atom(super_structure, top_layer_index)\n",
    "            center_atom_position = super_structure[center_atom_index].position\n",
    "            adsorb_site_surrounded_three_all,H_position_final_ad_all = get_adsorb_site_surrounded_three(H_positions,H_layer_index,top_layer_atoms,top_layer_index)\n",
    "            adsorb_site_index,atom_surround_adsorb_site= adsorb_H_index(super_structure,H_position_final_ad_all,center_atom_position,adsorb_site_surrounded_three_all)        \n",
    "            position_three, three_index = first_three_position(super_structure,atom_surround_adsorb_site)\n",
    "            midpoints = calculate_midpoint(position_three)\n",
    "            second_three_atom_top_list = get_second_surrounded_three(top_layer_atoms,midpoints,three_index)\n",
    "            atom_counts_1_layersecond_top = count_atom_number(second_three_atom_top_list)\n",
    "            second_nearest_atoms = get_surround_three_second(super_structure,second_layer_atoms,adsorb_site_index)\n",
    "            first_atom = get_first_three(atom_surround_adsorb_site)        \n",
    "                    \n",
    "            features = []\n",
    "            features.append('alloy+H-' +str(int(i)) + '-' + str(int(j)))\n",
    "            for m_i in range(len(combinations)):\n",
    "                com_i = combinations[m_i]\n",
    "                sorted_com_i = sorted(com_i)\n",
    "                sorted_first_atom = sorted(first_atom)\n",
    "                if sorted_first_atom == sorted_com_i:\n",
    "                    features.append(1)\n",
    "                else:\n",
    "                    features.append(0)   \n",
    "                       \n",
    "            for m_k in metal_atoms:\n",
    "                if m_k in atom_counts_1_layersecond_top:\n",
    "                    atom_count = atom_counts_1_layersecond_top[m_k]\n",
    "                    features.append(atom_count)\n",
    "                else:\n",
    "                    features.append(0)\n",
    "                        \n",
    "           \n",
    "            diff_1_2_atom = abs(second_nearest_atoms[0][-1] - second_nearest_atoms[1][-1])\n",
    "            if diff_1_2_atom>0.2:\n",
    "                second_layer_results = second_nearest_atoms[0]\n",
    "                second_site = second_nearest_atoms[0][1]\n",
    "                for m_j in metal_atoms:\n",
    "                    if m_j == second_site:\n",
    "                        features.append(1)\n",
    "                    else:\n",
    "                        features.append(0)\n",
    "                        \n",
    "            elif diff_1_2_atom<0.2:\n",
    "                second_layer_second = count_atom_number(second_nearest_atoms) \n",
    "                for m_j in metal_atoms:\n",
    "                    if m_j in second_layer_second:\n",
    "                        atom_count = second_layer_second[m_j]\n",
    "                        features.append(atom_count)\n",
    "                    else:\n",
    "                        features.append(0)\n",
    "            if diff_1_2_atom>0.2:\n",
    "                write(r'F:/work in tohoku/a_research_work/i_Nottingham_Ling/HEA-H-CO-DFT-ref-data/alloy+H-dft-ref-data/hcp_update/' + 'CONTCAR_super.'+str(int(i)) + '.' + str(int(j)), super_structure, direct=False,sort=True)\n",
    "            \n",
    "                features_pd = pd.DataFrame(features).T\n",
    "                features_hcp_all = pd.concat([features_hcp_all,features_pd],axis = 0)\n",
    "    \n",
    "            elif diff_1_2_atom<0.2:\n",
    "                write(r'F:/work in tohoku/a_research_work/i_Nottingham_Ling/HEA-H-CO-DFT-ref-data/alloy+H-dft-ref-data/fcc_update/' + 'CONTCAR_super.'+str(int(i)) + '.' + str(int(j)), super_structure, direct=False,sort=True)\n",
    "            \n",
    "                features_pd = pd.DataFrame(features).T\n",
    "                features_fcc_all = pd.concat([features_fcc_all,features_pd],axis = 0)\n",
    "        except:\n",
    "            print([i,j])\n",
    "            "
   ]
  },
  {
   "cell_type": "code",
   "execution_count": null,
   "id": "9f99b47d-a521-4e2b-9f54-27fddf190b2a",
   "metadata": {},
   "outputs": [],
   "source": [
    "atom_counts_1_layersecond_top"
   ]
  },
  {
   "cell_type": "code",
   "execution_count": null,
   "id": "f90b6a8d-c7f1-42a9-a2e5-5d0386313f1c",
   "metadata": {},
   "outputs": [],
   "source": [
    "adsorb_site_index"
   ]
  },
  {
   "cell_type": "code",
   "execution_count": null,
   "id": "92f32cbb-dcb5-40da-9056-ff65e5c90bc2",
   "metadata": {},
   "outputs": [],
   "source": [
    "columns_name = ['Num.'] + [i for i in combinations] + ['Cr','Mn','Fe','Co','Ni','Cu','Cr','Mn','Fe','Co','Ni','Cu']"
   ]
  },
  {
   "cell_type": "code",
   "execution_count": null,
   "id": "609d360e-ca46-4584-b690-bac94ef368d9",
   "metadata": {},
   "outputs": [],
   "source": [
    "features_fcc_all.columns = columns_name\n",
    "features_hcp_all.columns = columns_name"
   ]
  },
  {
   "cell_type": "code",
   "execution_count": null,
   "id": "0913e645-dcb7-4e30-95a5-5f3e412bb599",
   "metadata": {},
   "outputs": [],
   "source": [
    "features_fcc_all = features_fcc_all.reset_index(drop=True)\n",
    "features_hcp_all = features_hcp_all.reset_index(drop=True)"
   ]
  },
  {
   "cell_type": "code",
   "execution_count": null,
   "id": "a1b6c31d-95f2-4850-b572-4fedc8c0ab37",
   "metadata": {},
   "outputs": [],
   "source": [
    "features_hcp_all"
   ]
  },
  {
   "cell_type": "code",
   "execution_count": null,
   "id": "dcef0da3-e7ca-4a90-b820-d63abfa00435",
   "metadata": {},
   "outputs": [],
   "source": [
    "features_fcc_all"
   ]
  },
  {
   "cell_type": "code",
   "execution_count": null,
   "id": "9b5cd7fd-6b3d-48a6-aad2-11c36d476347",
   "metadata": {},
   "outputs": [],
   "source": [
    "features_hcp_all.to_excel('F:/work in tohoku/a_research_work/i_Nottingham_Ling/features/hcp/update_features_CONTCAR_hcp_all.xlsx')"
   ]
  },
  {
   "cell_type": "code",
   "execution_count": null,
   "id": "0a58186c-a46f-4a80-b72f-76d1828b6ce5",
   "metadata": {},
   "outputs": [],
   "source": [
    "features_fcc_all.to_excel('F:/work in tohoku/a_research_work/i_Nottingham_Ling/features/fcc/update_features_CONTCAR_fcc_all.xlsx')"
   ]
  },
  {
   "cell_type": "code",
   "execution_count": null,
   "id": "b5873da6-b07d-4139-a8c6-a23568bb85ec",
   "metadata": {},
   "outputs": [],
   "source": [
    "features_hcp_all_origin= pd.read_excel('F:/work in tohoku/a_research_work/i_Nottingham_Ling/features/fcc/features_CONTCAR_fcc_all.xlsx',index_col=0)\n",
    "features_hcp_all_update = pd.read_excel('F:/work in tohoku/a_research_work/i_Nottingham_Ling/features/fcc/update_features_CONTCAR_fcc_all.xlsx',index_col=0)"
   ]
  },
  {
   "cell_type": "code",
   "execution_count": null,
   "id": "71896c3b-bbcb-428e-b1cb-17fc16202509",
   "metadata": {},
   "outputs": [],
   "source": [
    "# 合并两个 DataFrame，按 'Num.' 列\n",
    "merged_df = pd.merge(features_hcp_all_origin, features_hcp_all_update, on='Num.', suffixes=('_POSCAR', '_CONTCAR'))\n",
    "\n",
    "# 比较其他列\n",
    "comparison_columns = [col for col in merged_df.columns if col.endswith('_POSCAR')]\n",
    "\n",
    "# 创建比较结果 DataFrame\n",
    "comparison_results = merged_df[comparison_columns].eq(merged_df[[col.replace('_POSCAR', '_CONTCAR') for col in comparison_columns]].values)\n",
    "\n",
    "# 找出不同的值\n",
    "differences = merged_df[~comparison_results.all(axis=1)]\n"
   ]
  },
  {
   "cell_type": "code",
   "execution_count": null,
   "id": "01d4c615-cf56-4616-a393-056bba1db432",
   "metadata": {},
   "outputs": [],
   "source": [
    "differences"
   ]
  },
  {
   "cell_type": "code",
   "execution_count": null,
   "id": "72a1bb77-7b19-48f3-a2ae-95a22f57a109",
   "metadata": {},
   "outputs": [],
   "source": []
  },
  {
   "cell_type": "code",
   "execution_count": null,
   "id": "2addb352-8fdf-4a19-8fc8-eaf06d2f143e",
   "metadata": {},
   "outputs": [],
   "source": []
  },
  {
   "cell_type": "code",
   "execution_count": null,
   "id": "0b06ce7d-5f0c-40ce-a86d-5853544199f3",
   "metadata": {},
   "outputs": [],
   "source": [
    "features_hcp_all_POSCAR = pd.read_excel('F:/work in tohoku/a_research_work/i_Nottingham_Ling/features/fcc/update_features_fcc_POSCAR_all.xlsx',index_col=0)\n",
    "features_hcp_all_CONTCAR = pd.read_excel('F:/work in tohoku/a_research_work/i_Nottingham_Ling/features/fcc/update_features_CONTCAR_fcc_all.xlsx',index_col=0)"
   ]
  },
  {
   "cell_type": "code",
   "execution_count": null,
   "id": "088a04ff-a23f-4b9f-82d6-c3389d6c2e16",
   "metadata": {},
   "outputs": [],
   "source": [
    "# 合并两个 DataFrame，按 'Num.' 列\n",
    "merged_df = pd.merge(features_hcp_all_POSCAR, features_hcp_all_CONTCAR, on='Num.', suffixes=('_POSCAR', '_CONTCAR'))\n",
    "\n",
    "# 比较其他列\n",
    "comparison_columns = [col for col in merged_df.columns if col.endswith('_POSCAR')]\n",
    "\n",
    "# 创建比较结果 DataFrame\n",
    "comparison_results = merged_df[comparison_columns].eq(merged_df[[col.replace('_POSCAR', '_CONTCAR') for col in comparison_columns]].values)\n",
    "\n",
    "# 找出不同的值\n",
    "differences = merged_df[~comparison_results.all(axis=1)]\n"
   ]
  },
  {
   "cell_type": "code",
   "execution_count": null,
   "id": "984c58cf-30c5-4b2a-9fc4-36fac7e15186",
   "metadata": {},
   "outputs": [],
   "source": [
    "differences"
   ]
  },
  {
   "cell_type": "code",
   "execution_count": null,
   "id": "df5468d3-9b80-4666-a969-e62a6504f727",
   "metadata": {},
   "outputs": [],
   "source": [
    "differences.to_excel('F:/work in tohoku/a_research_work/i_Nottingham_Ling/features/hcp/difference_POSCAR_CONTCAR_hcp_all.xlsx')"
   ]
  },
  {
   "cell_type": "code",
   "execution_count": null,
   "id": "95f7aa14-315a-44e6-8c0e-0384d195cf0b",
   "metadata": {},
   "outputs": [],
   "source": [
    "features_fcc_all_POSCAR = pd.read_excel('F:/work in tohoku/a_research_work/i_Nottingham_Ling/features/hcp/features_fcc_POSCAR_all.xlsx',index_col=0)\n",
    "features_fcc_all_CONTCAR = pd.read_excel('F:/work in tohoku/a_research_work/i_Nottingham_Ling/features/fcc/features_CONTCAR_fcc_all.xlsx',index_col=0)"
   ]
  },
  {
   "cell_type": "code",
   "execution_count": null,
   "id": "363cfc34-dfc1-4712-9ee5-2c09ddfd22b3",
   "metadata": {},
   "outputs": [],
   "source": [
    "# 合并两个 DataFrame，按 'Num.' 列\n",
    "merged_df = pd.merge(features_fcc_all_POSCAR, features_fcc_all_CONTCAR, on='Num.', suffixes=('_POSCAR', '_CONTCAR'))\n",
    "\n",
    "# 比较其他列\n",
    "comparison_columns = [col for col in merged_df.columns if col.endswith('_POSCAR')]\n",
    "\n",
    "# 创建比较结果 DataFrame\n",
    "comparison_results = merged_df[comparison_columns].eq(merged_df[[col.replace('_POSCAR', '_CONTCAR') for col in comparison_columns]].values)\n",
    "\n",
    "# 找出不同的值\n",
    "differences = merged_df[~comparison_results.all(axis=1)]\n"
   ]
  },
  {
   "cell_type": "code",
   "execution_count": null,
   "id": "f9b494c5-373b-40ff-bf3f-6b0dad052994",
   "metadata": {},
   "outputs": [],
   "source": [
    "differences"
   ]
  },
  {
   "cell_type": "code",
   "execution_count": null,
   "id": "61aa8bc9-a067-4c86-970b-2b12a2d372c0",
   "metadata": {},
   "outputs": [],
   "source": [
    "############################################################################"
   ]
  },
  {
   "cell_type": "code",
   "execution_count": null,
   "id": "6c55f286-36a7-42bc-bbe9-1c229f00f4f5",
   "metadata": {},
   "outputs": [],
   "source": [
    "features_fcc_all_CONTCAR = pd.read_excel('F:/work in tohoku/a_research_work/i_Nottingham_Ling/features/fcc/features_CONTCAR_fcc_all.xlsx',index_col=0)\n",
    "features_hcp_all_CONTCAR = pd.read_excel('F:/work in tohoku/a_research_work/i_Nottingham_Ling/features/hcp/features_CONTCAR_hcp_all.xlsx',index_col=0)"
   ]
  },
  {
   "cell_type": "code",
   "execution_count": null,
   "id": "b7398c38-a0df-4ded-b70e-4401d69392d3",
   "metadata": {},
   "outputs": [],
   "source": [
    "features_fcc_all_CONTCAR"
   ]
  },
  {
   "cell_type": "code",
   "execution_count": null,
   "id": "fe900415-eb01-4314-9864-18542db6910f",
   "metadata": {},
   "outputs": [],
   "source": [
    "data_adsoption_energy = pd.read_excel('F:/work in tohoku/a_research_work/i_Nottingham_Ling/alloy+H-dft-POSCAR/adsorp_H.xlsx')\n",
    "data_adsoption_energy.head()"
   ]
  },
  {
   "cell_type": "code",
   "execution_count": null,
   "id": "0caab9d8-cf40-4a76-9963-5cf28c4ee31a",
   "metadata": {},
   "outputs": [],
   "source": [
    "data_name_fcc_features_all = features_fcc_all_CONTCAR['Num.']\n",
    "data_name_hcp_features_all = features_hcp_all_CONTCAR['Num.']\n",
    "\n",
    "data_name_adsoption_energy = data_adsoption_energy['# H adsorption energy in eV per H']\n",
    "data_name_adsoption_energy_np = np.array(data_name_adsoption_energy)"
   ]
  },
  {
   "cell_type": "code",
   "execution_count": null,
   "id": "d5bca1e6-7d1e-4076-8e86-4357866fc46e",
   "metadata": {},
   "outputs": [],
   "source": [
    "data_feature_adsorp_fcc_final = pd.DataFrame()\n",
    "for feature_i in data_name_fcc_features_all:\n",
    "    if feature_i in data_name_adsoption_energy_np:\n",
    "        #data_feature = features_all[features_all['Num.'] ==feature_i]\n",
    "        data_feature = features_fcc_all_CONTCAR.loc[features_fcc_all_CONTCAR['Num.'] == feature_i].copy()\n",
    "        data_adsorb = data_adsoption_energy[data_adsoption_energy['# H adsorption energy in eV per H'] ==feature_i]['EH']\n",
    "        data_adsorb_np = np.array(data_adsorb)\n",
    "        data_feature.loc[:,'energy'] = data_adsorb_np\n",
    "        #data_feature_adsorp = pd.concat([data_feature,data_adsorb],axis = 1,ignore_index=True)\n",
    "        data_feature_adsorp_fcc_final = pd.concat([data_feature_adsorp_fcc_final,data_feature],axis = 0, ignore_index=True)\n",
    "    else:\n",
    "        continue"
   ]
  },
  {
   "cell_type": "code",
   "execution_count": null,
   "id": "b2e48c3b-aade-4c4c-98d2-244819cb35cd",
   "metadata": {},
   "outputs": [],
   "source": [
    "data_feature_adsorp_fcc_final"
   ]
  },
  {
   "cell_type": "code",
   "execution_count": null,
   "id": "fff53724-0377-43ca-9a03-6b571ae1e7e7",
   "metadata": {},
   "outputs": [],
   "source": [
    "data_feature_adsorp_fcc_final.to_excel('F:/work in tohoku/a_research_work/i_Nottingham_Ling/features/fcc/ML_fcc_H.xlsx')"
   ]
  },
  {
   "cell_type": "code",
   "execution_count": null,
   "id": "a544c57c-a022-4f0b-8818-3ef2ad9db332",
   "metadata": {},
   "outputs": [],
   "source": [
    "data_feature_adsorp_hcp_final = pd.DataFrame()\n",
    "for feature_i in data_name_hcp_features_all:\n",
    "    if feature_i in data_name_adsoption_energy_np:\n",
    "        #data_feature = features_all[features_all['Num.'] ==feature_i]\n",
    "        data_feature = features_hcp_all_CONTCAR.loc[features_hcp_all_CONTCAR['Num.'] == feature_i].copy()\n",
    "        data_adsorb = data_adsoption_energy[data_adsoption_energy['# H adsorption energy in eV per H'] ==feature_i]['EH']\n",
    "        data_adsorb_np = np.array(data_adsorb)\n",
    "        data_feature.loc[:,'energy'] = data_adsorb_np\n",
    "        #data_feature_adsorp = pd.concat([data_feature,data_adsorb],axis = 1,ignore_index=True)\n",
    "        data_feature_adsorp_hcp_final = pd.concat([data_feature_adsorp_hcp_final,data_feature],axis = 0, ignore_index=True)\n",
    "    else:\n",
    "        continue"
   ]
  },
  {
   "cell_type": "code",
   "execution_count": null,
   "id": "18a66880-df49-4a0b-954a-832cdb543353",
   "metadata": {},
   "outputs": [],
   "source": [
    "data_feature_adsorp_hcp_final"
   ]
  },
  {
   "cell_type": "code",
   "execution_count": null,
   "id": "0de986d5-e14e-469e-b4cc-179aa045b28b",
   "metadata": {},
   "outputs": [],
   "source": [
    "data_feature_adsorp_hcp_final.to_excel('F:/work in tohoku/a_research_work/i_Nottingham_Ling/features/hcp/ML_hcp_H.xlsx')"
   ]
  },
  {
   "cell_type": "code",
   "execution_count": 3,
   "id": "03a1ee68-b3e2-41b0-a67a-5551b7ae2f6b",
   "metadata": {},
   "outputs": [],
   "source": [
    "def plt_figure(y_train,predicted,x_size,y_size):\n",
    "    \n",
    "    fig, ax = plt.subplots(figsize=(6,6))\n",
    "    #plt.rcParams['savefig.dpi'] = 300\n",
    "    #plt.rcParams['figure.dpi'] = 300 \n",
    "    \n",
    "    font1 = {'family' : 'Times New Roman',\n",
    "             'weight' : 'normal',\n",
    "             'size'   : 10\n",
    "            }\n",
    "    \n",
    "    #legend = plt.legend(handles=[],prop=font1)\n",
    "    \n",
    "    plt.xticks(fontproperties = 'Times New Roman', size = 20)\n",
    "    plt.yticks(fontproperties = 'Times New Roman', size = 20)\n",
    "    \n",
    "    plt.rcParams['xtick.direction'] = 'in'\n",
    "    plt.rcParams['ytick.direction'] = 'in'\n",
    "    \n",
    "    ax.scatter(y_train, predicted, c='#DB7093',marker='.',edgecolors=(0, 0, 0), s=200)\n",
    "    \n",
    "    ax.plot([x_size,y_size], [x_size,y_size], 'k--', lw=3)\n",
    "    font1 = {'family': 'serif', 'weight': 'normal', 'size': 20}  # 设置字体大小为12\n",
    "    ax.set_xlabel('Actual value',font1)\n",
    "    ax.set_ylabel('Predicted value',font1)\n",
    "    \n",
    "    #plt.savefig('d:/diandao.jpg', dpi=300)\n",
    "    plt.show()\n"
   ]
  },
  {
   "cell_type": "code",
   "execution_count": 3,
   "id": "9c8e952a-2336-4704-bf24-7b1d685a2c32",
   "metadata": {},
   "outputs": [
    {
     "data": {
      "text/html": [
       "<div>\n",
       "<style scoped>\n",
       "    .dataframe tbody tr th:only-of-type {\n",
       "        vertical-align: middle;\n",
       "    }\n",
       "\n",
       "    .dataframe tbody tr th {\n",
       "        vertical-align: top;\n",
       "    }\n",
       "\n",
       "    .dataframe thead th {\n",
       "        text-align: right;\n",
       "    }\n",
       "</style>\n",
       "<table border=\"1\" class=\"dataframe\">\n",
       "  <thead>\n",
       "    <tr style=\"text-align: right;\">\n",
       "      <th></th>\n",
       "      <th>Num.</th>\n",
       "      <th>('Cr', 'Cr', 'Cr')</th>\n",
       "      <th>('Cr', 'Cr', 'Mn')</th>\n",
       "      <th>('Cr', 'Cr', 'Fe')</th>\n",
       "      <th>('Cr', 'Cr', 'Co')</th>\n",
       "      <th>('Cr', 'Cr', 'Ni')</th>\n",
       "      <th>('Cr', 'Cr', 'Cu')</th>\n",
       "      <th>('Cr', 'Mn', 'Mn')</th>\n",
       "      <th>('Cr', 'Mn', 'Fe')</th>\n",
       "      <th>('Cr', 'Mn', 'Co')</th>\n",
       "      <th>...</th>\n",
       "      <th>Co</th>\n",
       "      <th>Ni</th>\n",
       "      <th>Cu</th>\n",
       "      <th>Cr.1</th>\n",
       "      <th>Mn.1</th>\n",
       "      <th>Fe.1</th>\n",
       "      <th>Co.1</th>\n",
       "      <th>Ni.1</th>\n",
       "      <th>Cu.1</th>\n",
       "      <th>energy</th>\n",
       "    </tr>\n",
       "  </thead>\n",
       "  <tbody>\n",
       "    <tr>\n",
       "      <th>0</th>\n",
       "      <td>alloy+H-0-0</td>\n",
       "      <td>0</td>\n",
       "      <td>0</td>\n",
       "      <td>0</td>\n",
       "      <td>0</td>\n",
       "      <td>0</td>\n",
       "      <td>0</td>\n",
       "      <td>0</td>\n",
       "      <td>0</td>\n",
       "      <td>0</td>\n",
       "      <td>...</td>\n",
       "      <td>1</td>\n",
       "      <td>0</td>\n",
       "      <td>0</td>\n",
       "      <td>1</td>\n",
       "      <td>0</td>\n",
       "      <td>2</td>\n",
       "      <td>0</td>\n",
       "      <td>0</td>\n",
       "      <td>0</td>\n",
       "      <td>-0.724588</td>\n",
       "    </tr>\n",
       "    <tr>\n",
       "      <th>1</th>\n",
       "      <td>alloy+H-0-1</td>\n",
       "      <td>0</td>\n",
       "      <td>0</td>\n",
       "      <td>0</td>\n",
       "      <td>0</td>\n",
       "      <td>0</td>\n",
       "      <td>0</td>\n",
       "      <td>0</td>\n",
       "      <td>0</td>\n",
       "      <td>0</td>\n",
       "      <td>...</td>\n",
       "      <td>0</td>\n",
       "      <td>0</td>\n",
       "      <td>2</td>\n",
       "      <td>0</td>\n",
       "      <td>0</td>\n",
       "      <td>0</td>\n",
       "      <td>0</td>\n",
       "      <td>2</td>\n",
       "      <td>1</td>\n",
       "      <td>-0.686330</td>\n",
       "    </tr>\n",
       "    <tr>\n",
       "      <th>2</th>\n",
       "      <td>alloy+H-0-2</td>\n",
       "      <td>0</td>\n",
       "      <td>0</td>\n",
       "      <td>0</td>\n",
       "      <td>0</td>\n",
       "      <td>0</td>\n",
       "      <td>0</td>\n",
       "      <td>0</td>\n",
       "      <td>0</td>\n",
       "      <td>0</td>\n",
       "      <td>...</td>\n",
       "      <td>1</td>\n",
       "      <td>0</td>\n",
       "      <td>2</td>\n",
       "      <td>0</td>\n",
       "      <td>0</td>\n",
       "      <td>0</td>\n",
       "      <td>1</td>\n",
       "      <td>1</td>\n",
       "      <td>1</td>\n",
       "      <td>-0.678101</td>\n",
       "    </tr>\n",
       "    <tr>\n",
       "      <th>3</th>\n",
       "      <td>alloy+H-0-4</td>\n",
       "      <td>0</td>\n",
       "      <td>0</td>\n",
       "      <td>0</td>\n",
       "      <td>0</td>\n",
       "      <td>0</td>\n",
       "      <td>0</td>\n",
       "      <td>0</td>\n",
       "      <td>0</td>\n",
       "      <td>0</td>\n",
       "      <td>...</td>\n",
       "      <td>1</td>\n",
       "      <td>0</td>\n",
       "      <td>0</td>\n",
       "      <td>0</td>\n",
       "      <td>0</td>\n",
       "      <td>2</td>\n",
       "      <td>1</td>\n",
       "      <td>0</td>\n",
       "      <td>0</td>\n",
       "      <td>-0.670338</td>\n",
       "    </tr>\n",
       "    <tr>\n",
       "      <th>4</th>\n",
       "      <td>alloy+H-0-5</td>\n",
       "      <td>0</td>\n",
       "      <td>0</td>\n",
       "      <td>0</td>\n",
       "      <td>0</td>\n",
       "      <td>0</td>\n",
       "      <td>0</td>\n",
       "      <td>0</td>\n",
       "      <td>0</td>\n",
       "      <td>0</td>\n",
       "      <td>...</td>\n",
       "      <td>0</td>\n",
       "      <td>2</td>\n",
       "      <td>1</td>\n",
       "      <td>0</td>\n",
       "      <td>0</td>\n",
       "      <td>0</td>\n",
       "      <td>1</td>\n",
       "      <td>0</td>\n",
       "      <td>2</td>\n",
       "      <td>-0.383814</td>\n",
       "    </tr>\n",
       "    <tr>\n",
       "      <th>...</th>\n",
       "      <td>...</td>\n",
       "      <td>...</td>\n",
       "      <td>...</td>\n",
       "      <td>...</td>\n",
       "      <td>...</td>\n",
       "      <td>...</td>\n",
       "      <td>...</td>\n",
       "      <td>...</td>\n",
       "      <td>...</td>\n",
       "      <td>...</td>\n",
       "      <td>...</td>\n",
       "      <td>...</td>\n",
       "      <td>...</td>\n",
       "      <td>...</td>\n",
       "      <td>...</td>\n",
       "      <td>...</td>\n",
       "      <td>...</td>\n",
       "      <td>...</td>\n",
       "      <td>...</td>\n",
       "      <td>...</td>\n",
       "      <td>...</td>\n",
       "    </tr>\n",
       "    <tr>\n",
       "      <th>1622</th>\n",
       "      <td>alloy+H-24-139</td>\n",
       "      <td>0</td>\n",
       "      <td>0</td>\n",
       "      <td>0</td>\n",
       "      <td>0</td>\n",
       "      <td>0</td>\n",
       "      <td>0</td>\n",
       "      <td>0</td>\n",
       "      <td>0</td>\n",
       "      <td>0</td>\n",
       "      <td>...</td>\n",
       "      <td>1</td>\n",
       "      <td>0</td>\n",
       "      <td>0</td>\n",
       "      <td>1</td>\n",
       "      <td>0</td>\n",
       "      <td>2</td>\n",
       "      <td>0</td>\n",
       "      <td>0</td>\n",
       "      <td>0</td>\n",
       "      <td>-0.780058</td>\n",
       "    </tr>\n",
       "    <tr>\n",
       "      <th>1623</th>\n",
       "      <td>alloy+H-24-140</td>\n",
       "      <td>0</td>\n",
       "      <td>0</td>\n",
       "      <td>0</td>\n",
       "      <td>0</td>\n",
       "      <td>0</td>\n",
       "      <td>0</td>\n",
       "      <td>0</td>\n",
       "      <td>0</td>\n",
       "      <td>0</td>\n",
       "      <td>...</td>\n",
       "      <td>1</td>\n",
       "      <td>1</td>\n",
       "      <td>0</td>\n",
       "      <td>0</td>\n",
       "      <td>1</td>\n",
       "      <td>0</td>\n",
       "      <td>1</td>\n",
       "      <td>0</td>\n",
       "      <td>1</td>\n",
       "      <td>-0.759750</td>\n",
       "    </tr>\n",
       "    <tr>\n",
       "      <th>1624</th>\n",
       "      <td>alloy+H-24-141</td>\n",
       "      <td>0</td>\n",
       "      <td>0</td>\n",
       "      <td>0</td>\n",
       "      <td>0</td>\n",
       "      <td>0</td>\n",
       "      <td>0</td>\n",
       "      <td>0</td>\n",
       "      <td>0</td>\n",
       "      <td>0</td>\n",
       "      <td>...</td>\n",
       "      <td>0</td>\n",
       "      <td>0</td>\n",
       "      <td>0</td>\n",
       "      <td>0</td>\n",
       "      <td>0</td>\n",
       "      <td>0</td>\n",
       "      <td>1</td>\n",
       "      <td>1</td>\n",
       "      <td>1</td>\n",
       "      <td>-0.784484</td>\n",
       "    </tr>\n",
       "    <tr>\n",
       "      <th>1625</th>\n",
       "      <td>alloy+H-24-142</td>\n",
       "      <td>0</td>\n",
       "      <td>0</td>\n",
       "      <td>0</td>\n",
       "      <td>0</td>\n",
       "      <td>0</td>\n",
       "      <td>0</td>\n",
       "      <td>0</td>\n",
       "      <td>0</td>\n",
       "      <td>0</td>\n",
       "      <td>...</td>\n",
       "      <td>1</td>\n",
       "      <td>1</td>\n",
       "      <td>0</td>\n",
       "      <td>0</td>\n",
       "      <td>0</td>\n",
       "      <td>0</td>\n",
       "      <td>1</td>\n",
       "      <td>0</td>\n",
       "      <td>2</td>\n",
       "      <td>-0.779463</td>\n",
       "    </tr>\n",
       "    <tr>\n",
       "      <th>1626</th>\n",
       "      <td>alloy+H-24-143</td>\n",
       "      <td>0</td>\n",
       "      <td>0</td>\n",
       "      <td>0</td>\n",
       "      <td>0</td>\n",
       "      <td>0</td>\n",
       "      <td>0</td>\n",
       "      <td>0</td>\n",
       "      <td>0</td>\n",
       "      <td>0</td>\n",
       "      <td>...</td>\n",
       "      <td>0</td>\n",
       "      <td>0</td>\n",
       "      <td>1</td>\n",
       "      <td>0</td>\n",
       "      <td>0</td>\n",
       "      <td>1</td>\n",
       "      <td>1</td>\n",
       "      <td>1</td>\n",
       "      <td>0</td>\n",
       "      <td>-0.740366</td>\n",
       "    </tr>\n",
       "  </tbody>\n",
       "</table>\n",
       "<p>1627 rows × 70 columns</p>\n",
       "</div>"
      ],
      "text/plain": [
       "                Num.  ('Cr', 'Cr', 'Cr')  ('Cr', 'Cr', 'Mn')  \\\n",
       "0        alloy+H-0-0                   0                   0   \n",
       "1        alloy+H-0-1                   0                   0   \n",
       "2        alloy+H-0-2                   0                   0   \n",
       "3        alloy+H-0-4                   0                   0   \n",
       "4        alloy+H-0-5                   0                   0   \n",
       "...              ...                 ...                 ...   \n",
       "1622  alloy+H-24-139                   0                   0   \n",
       "1623  alloy+H-24-140                   0                   0   \n",
       "1624  alloy+H-24-141                   0                   0   \n",
       "1625  alloy+H-24-142                   0                   0   \n",
       "1626  alloy+H-24-143                   0                   0   \n",
       "\n",
       "      ('Cr', 'Cr', 'Fe')  ('Cr', 'Cr', 'Co')  ('Cr', 'Cr', 'Ni')  \\\n",
       "0                      0                   0                   0   \n",
       "1                      0                   0                   0   \n",
       "2                      0                   0                   0   \n",
       "3                      0                   0                   0   \n",
       "4                      0                   0                   0   \n",
       "...                  ...                 ...                 ...   \n",
       "1622                   0                   0                   0   \n",
       "1623                   0                   0                   0   \n",
       "1624                   0                   0                   0   \n",
       "1625                   0                   0                   0   \n",
       "1626                   0                   0                   0   \n",
       "\n",
       "      ('Cr', 'Cr', 'Cu')  ('Cr', 'Mn', 'Mn')  ('Cr', 'Mn', 'Fe')  \\\n",
       "0                      0                   0                   0   \n",
       "1                      0                   0                   0   \n",
       "2                      0                   0                   0   \n",
       "3                      0                   0                   0   \n",
       "4                      0                   0                   0   \n",
       "...                  ...                 ...                 ...   \n",
       "1622                   0                   0                   0   \n",
       "1623                   0                   0                   0   \n",
       "1624                   0                   0                   0   \n",
       "1625                   0                   0                   0   \n",
       "1626                   0                   0                   0   \n",
       "\n",
       "      ('Cr', 'Mn', 'Co')  ...  Co  Ni  Cu  Cr.1  Mn.1  Fe.1  Co.1  Ni.1  Cu.1  \\\n",
       "0                      0  ...   1   0   0     1     0     2     0     0     0   \n",
       "1                      0  ...   0   0   2     0     0     0     0     2     1   \n",
       "2                      0  ...   1   0   2     0     0     0     1     1     1   \n",
       "3                      0  ...   1   0   0     0     0     2     1     0     0   \n",
       "4                      0  ...   0   2   1     0     0     0     1     0     2   \n",
       "...                  ...  ...  ..  ..  ..   ...   ...   ...   ...   ...   ...   \n",
       "1622                   0  ...   1   0   0     1     0     2     0     0     0   \n",
       "1623                   0  ...   1   1   0     0     1     0     1     0     1   \n",
       "1624                   0  ...   0   0   0     0     0     0     1     1     1   \n",
       "1625                   0  ...   1   1   0     0     0     0     1     0     2   \n",
       "1626                   0  ...   0   0   1     0     0     1     1     1     0   \n",
       "\n",
       "        energy  \n",
       "0    -0.724588  \n",
       "1    -0.686330  \n",
       "2    -0.678101  \n",
       "3    -0.670338  \n",
       "4    -0.383814  \n",
       "...        ...  \n",
       "1622 -0.780058  \n",
       "1623 -0.759750  \n",
       "1624 -0.784484  \n",
       "1625 -0.779463  \n",
       "1626 -0.740366  \n",
       "\n",
       "[1627 rows x 70 columns]"
      ]
     },
     "execution_count": 3,
     "metadata": {},
     "output_type": "execute_result"
    }
   ],
   "source": [
    "data_fcc = pd.read_excel('F:/work in tohoku/a_research_work/i_Nottingham_Ling/features/fcc/ML_fcc_H.xlsx',index_col=0)\n",
    "data_fcc"
   ]
  },
  {
   "cell_type": "code",
   "execution_count": 4,
   "id": "467c7d70-17ce-4254-a8e5-bb4b5f0592bb",
   "metadata": {},
   "outputs": [],
   "source": [
    "X_pd = data_fcc.iloc[:,0:-1]\n",
    "Y_pd = data_fcc.iloc[:,-1]"
   ]
  },
  {
   "cell_type": "code",
   "execution_count": 5,
   "id": "62809c84-8189-4a21-8eae-4e16851fe345",
   "metadata": {},
   "outputs": [],
   "source": [
    "X_train,X_test,y_train,y_test = train_test_split(X_pd,Y_pd,test_size=0.2,random_state=0,shuffle=True)\n",
    "X_train_pd = X_train.iloc[:,1:]\n",
    "X_test_pd = X_test.iloc[:,1:]\n",
    "\n",
    "X_train_np = np.array(X_train_pd)\n",
    "X_test_np = np.array(X_test_pd)\n",
    "\n",
    "y_train_np = np.array(y_train)\n",
    "y_test_np = np.array(y_test)"
   ]
  },
  {
   "cell_type": "code",
   "execution_count": 10,
   "id": "a90f8035-a0c7-4c26-9e25-7e712a90517f",
   "metadata": {},
   "outputs": [
    {
     "name": "stdout",
     "output_type": "stream",
     "text": [
      "{'kernel__k2__noise_level': 0.9326033468832199, 'kernel__k1__k2__length_scale': 1.232846739442066, 'kernel__k1__k1__constant_value': 57.2236765935022}\n",
      "0.3962128813391954\n"
     ]
    }
   ],
   "source": [
    "from sklearn.gaussian_process import GaussianProcessRegressor\n",
    "from sklearn.gaussian_process.kernels import RBF, WhiteKernel, ConstantKernel\n",
    "from sklearn.model_selection import RandomizedSearchCV\n",
    "import numpy as np\n",
    "\n",
    "# Define the kernel with ConstantKernel\n",
    "kernel = ConstantKernel() * RBF() + WhiteKernel()\n",
    "\n",
    "# Initialize the GaussianProcessRegressor\n",
    "gp = GaussianProcessRegressor(kernel=kernel)\n",
    "\n",
    "# Define the hyperparameter distributions\n",
    "param_distributions = {\n",
    "    \"kernel__k1__k1__constant_value\": np.logspace(-2, 1, 100)**2,\n",
    "    \"kernel__k1__k2__length_scale\": np.logspace(-2, 2.5, 100),\n",
    "    \"kernel__k2__noise_level\": np.logspace(-3, 0, 100)\n",
    "}\n",
    "\n",
    "# Create the RandomizedSearchCV object\n",
    "random_search = RandomizedSearchCV(estimator=gp, param_distributions=param_distributions, n_iter=30, cv=10, n_jobs=-1, random_state=42)\n",
    "\n",
    "# Fit the RandomizedSearchCV object to the data\n",
    "random_search.fit(X_train_np,y_train_np)\n",
    "\n",
    "# Print the best parameters\n",
    "print(random_search.best_params_)\n",
    "print(random_search.best_score_)"
   ]
  },
  {
   "cell_type": "code",
   "execution_count": 6,
   "id": "ad9bbbd9-c599-4afd-9aea-d5d732423b49",
   "metadata": {},
   "outputs": [
    {
     "name": "stdout",
     "output_type": "stream",
     "text": [
      "0.396212338739857\n",
      "-0.01585416777465632\n",
      "0.6294540004955541\n",
      "0.1259133343798675\n"
     ]
    }
   ],
   "source": [
    "from sklearn.gaussian_process import GaussianProcessRegressor\n",
    "from sklearn.gaussian_process.kernels import RBF, WhiteKernel\n",
    "\n",
    "kernel = 100.0**2 * RBF(length_scale=100.0) + WhiteKernel(noise_level=0.03162277660168379)\n",
    "\n",
    "# 高斯过程回归模型\n",
    "gp_test = GaussianProcessRegressor(kernel=kernel, n_restarts_optimizer=10)\n",
    "score = cross_val_score(gp_test,X_train_np,y_train_np,cv=10,n_jobs=-1).mean()\n",
    "mse = cross_val_score(gp_test,X_train_np,y_train_np,cv=10,n_jobs=-1, scoring = 'neg_mean_squared_error').mean()\n",
    "\n",
    "print(score) # R2\n",
    "print(mse)                  \n",
    "print(np.sqrt(score))       \n",
    "print(np.sqrt(abs(mse)))"
   ]
  },
  {
   "cell_type": "code",
   "execution_count": 8,
   "id": "66e0054f-a7f8-4d69-b7fa-9c109a092520",
   "metadata": {},
   "outputs": [],
   "source": [
    "predicted_gp = cross_val_predict(gp_test,X_train_np,y_train_np, cv=10,n_jobs=-1)"
   ]
  },
  {
   "cell_type": "code",
   "execution_count": 9,
   "id": "65a20789-e13a-4c3f-aa3c-819e6463ff30",
   "metadata": {},
   "outputs": [
    {
     "data": {
      "image/png": "[encoded data removed]",
      "text/plain": [
       "<Figure size 600x600 with 1 Axes>"
      ]
     },
     "metadata": {},
     "output_type": "display_data"
    }
   ],
   "source": [
    "plt_figure(y_train_np,predicted_gp,-1.5,0.5)"
   ]
  },
  {
   "cell_type": "code",
   "execution_count": 21,
   "id": "c9b41410-9c75-426b-91b6-7b08cd772004",
   "metadata": {},
   "outputs": [],
   "source": [
    "X_train_re_index = X_train.reset_index(drop = True)\n",
    "X_train_re_index.columns = columns_name\n",
    "y_train_reindex = pd.DataFrame(y_train).reset_index(drop = True)\n",
    "predicted_gp_pd = pd.DataFrame(predicted_gp)\n"
   ]
  },
  {
   "cell_type": "code",
   "execution_count": 23,
   "id": "be0afad8-ee50-467a-9dd2-53850c9aec0c",
   "metadata": {},
   "outputs": [],
   "source": [
    "columns_name_quan = ['Num.'] + [i for i in combinations] + ['Cr','Mn','Fe','Co','Ni','Cu','Cr','Mn','Fe','Co','Ni','Cu','y','pre']"
   ]
  },
  {
   "cell_type": "code",
   "execution_count": 26,
   "id": "d78ea5b0-92bd-44a9-a646-77043557fcb1",
   "metadata": {},
   "outputs": [],
   "source": [
    "data_pre_true = pd.concat([X_train_re_index,y_train_reindex,predicted_gp_pd],axis = 1)\n",
    "data_pre_true.columns = columns_name_quan"
   ]
  },
  {
   "cell_type": "code",
   "execution_count": 27,
   "id": "3fe1d0df-b467-46db-974a-d64c186de389",
   "metadata": {},
   "outputs": [],
   "source": [
    "data_pre_true.to_excel('F:/work in tohoku/a_research_work/i_Nottingham_Ling/features/hcp/data_pre_true.xlsx')"
   ]
  },
  {
   "cell_type": "code",
   "execution_count": 4,
   "id": "09a9e011-fe19-4d1a-ba2d-cd64b45bf052",
   "metadata": {},
   "outputs": [
    {
     "data": {
      "text/html": [
       "<div>\n",
       "<style scoped>\n",
       "    .dataframe tbody tr th:only-of-type {\n",
       "        vertical-align: middle;\n",
       "    }\n",
       "\n",
       "    .dataframe tbody tr th {\n",
       "        vertical-align: top;\n",
       "    }\n",
       "\n",
       "    .dataframe thead th {\n",
       "        text-align: right;\n",
       "    }\n",
       "</style>\n",
       "<table border=\"1\" class=\"dataframe\">\n",
       "  <thead>\n",
       "    <tr style=\"text-align: right;\">\n",
       "      <th></th>\n",
       "      <th>Num.</th>\n",
       "      <th>('Cr', 'Cr', 'Cr')</th>\n",
       "      <th>('Cr', 'Cr', 'Mn')</th>\n",
       "      <th>('Cr', 'Cr', 'Fe')</th>\n",
       "      <th>('Cr', 'Cr', 'Co')</th>\n",
       "      <th>('Cr', 'Cr', 'Ni')</th>\n",
       "      <th>('Cr', 'Cr', 'Cu')</th>\n",
       "      <th>('Cr', 'Mn', 'Mn')</th>\n",
       "      <th>('Cr', 'Mn', 'Fe')</th>\n",
       "      <th>('Cr', 'Mn', 'Co')</th>\n",
       "      <th>...</th>\n",
       "      <th>Co</th>\n",
       "      <th>Ni</th>\n",
       "      <th>Cu</th>\n",
       "      <th>Cr.1</th>\n",
       "      <th>Mn.1</th>\n",
       "      <th>Fe.1</th>\n",
       "      <th>Co.1</th>\n",
       "      <th>Ni.1</th>\n",
       "      <th>Cu.1</th>\n",
       "      <th>energy</th>\n",
       "    </tr>\n",
       "  </thead>\n",
       "  <tbody>\n",
       "    <tr>\n",
       "      <th>0</th>\n",
       "      <td>alloy+H-0-26</td>\n",
       "      <td>0</td>\n",
       "      <td>0</td>\n",
       "      <td>0</td>\n",
       "      <td>0</td>\n",
       "      <td>0</td>\n",
       "      <td>0</td>\n",
       "      <td>0</td>\n",
       "      <td>0</td>\n",
       "      <td>0</td>\n",
       "      <td>...</td>\n",
       "      <td>0</td>\n",
       "      <td>0</td>\n",
       "      <td>0</td>\n",
       "      <td>1</td>\n",
       "      <td>0</td>\n",
       "      <td>0</td>\n",
       "      <td>0</td>\n",
       "      <td>0</td>\n",
       "      <td>0</td>\n",
       "      <td>-0.684893</td>\n",
       "    </tr>\n",
       "    <tr>\n",
       "      <th>1</th>\n",
       "      <td>alloy+H-0-36</td>\n",
       "      <td>0</td>\n",
       "      <td>0</td>\n",
       "      <td>0</td>\n",
       "      <td>0</td>\n",
       "      <td>0</td>\n",
       "      <td>0</td>\n",
       "      <td>0</td>\n",
       "      <td>0</td>\n",
       "      <td>0</td>\n",
       "      <td>...</td>\n",
       "      <td>1</td>\n",
       "      <td>0</td>\n",
       "      <td>2</td>\n",
       "      <td>0</td>\n",
       "      <td>0</td>\n",
       "      <td>0</td>\n",
       "      <td>1</td>\n",
       "      <td>0</td>\n",
       "      <td>0</td>\n",
       "      <td>-0.534637</td>\n",
       "    </tr>\n",
       "    <tr>\n",
       "      <th>2</th>\n",
       "      <td>alloy+H-0-37</td>\n",
       "      <td>0</td>\n",
       "      <td>0</td>\n",
       "      <td>0</td>\n",
       "      <td>0</td>\n",
       "      <td>0</td>\n",
       "      <td>0</td>\n",
       "      <td>0</td>\n",
       "      <td>0</td>\n",
       "      <td>0</td>\n",
       "      <td>...</td>\n",
       "      <td>0</td>\n",
       "      <td>0</td>\n",
       "      <td>1</td>\n",
       "      <td>0</td>\n",
       "      <td>0</td>\n",
       "      <td>0</td>\n",
       "      <td>0</td>\n",
       "      <td>1</td>\n",
       "      <td>0</td>\n",
       "      <td>-0.737187</td>\n",
       "    </tr>\n",
       "    <tr>\n",
       "      <th>3</th>\n",
       "      <td>alloy+H-0-38</td>\n",
       "      <td>0</td>\n",
       "      <td>0</td>\n",
       "      <td>0</td>\n",
       "      <td>0</td>\n",
       "      <td>0</td>\n",
       "      <td>0</td>\n",
       "      <td>0</td>\n",
       "      <td>0</td>\n",
       "      <td>0</td>\n",
       "      <td>...</td>\n",
       "      <td>1</td>\n",
       "      <td>1</td>\n",
       "      <td>0</td>\n",
       "      <td>0</td>\n",
       "      <td>0</td>\n",
       "      <td>1</td>\n",
       "      <td>0</td>\n",
       "      <td>0</td>\n",
       "      <td>0</td>\n",
       "      <td>-0.634500</td>\n",
       "    </tr>\n",
       "    <tr>\n",
       "      <th>4</th>\n",
       "      <td>alloy+H-0-39</td>\n",
       "      <td>0</td>\n",
       "      <td>0</td>\n",
       "      <td>0</td>\n",
       "      <td>0</td>\n",
       "      <td>0</td>\n",
       "      <td>0</td>\n",
       "      <td>0</td>\n",
       "      <td>0</td>\n",
       "      <td>0</td>\n",
       "      <td>...</td>\n",
       "      <td>0</td>\n",
       "      <td>1</td>\n",
       "      <td>1</td>\n",
       "      <td>1</td>\n",
       "      <td>0</td>\n",
       "      <td>0</td>\n",
       "      <td>0</td>\n",
       "      <td>0</td>\n",
       "      <td>0</td>\n",
       "      <td>-0.499132</td>\n",
       "    </tr>\n",
       "    <tr>\n",
       "      <th>...</th>\n",
       "      <td>...</td>\n",
       "      <td>...</td>\n",
       "      <td>...</td>\n",
       "      <td>...</td>\n",
       "      <td>...</td>\n",
       "      <td>...</td>\n",
       "      <td>...</td>\n",
       "      <td>...</td>\n",
       "      <td>...</td>\n",
       "      <td>...</td>\n",
       "      <td>...</td>\n",
       "      <td>...</td>\n",
       "      <td>...</td>\n",
       "      <td>...</td>\n",
       "      <td>...</td>\n",
       "      <td>...</td>\n",
       "      <td>...</td>\n",
       "      <td>...</td>\n",
       "      <td>...</td>\n",
       "      <td>...</td>\n",
       "      <td>...</td>\n",
       "    </tr>\n",
       "    <tr>\n",
       "      <th>1831</th>\n",
       "      <td>alloy+H-24-104</td>\n",
       "      <td>0</td>\n",
       "      <td>0</td>\n",
       "      <td>0</td>\n",
       "      <td>0</td>\n",
       "      <td>0</td>\n",
       "      <td>0</td>\n",
       "      <td>0</td>\n",
       "      <td>0</td>\n",
       "      <td>0</td>\n",
       "      <td>...</td>\n",
       "      <td>1</td>\n",
       "      <td>0</td>\n",
       "      <td>0</td>\n",
       "      <td>0</td>\n",
       "      <td>0</td>\n",
       "      <td>0</td>\n",
       "      <td>1</td>\n",
       "      <td>0</td>\n",
       "      <td>0</td>\n",
       "      <td>-0.709497</td>\n",
       "    </tr>\n",
       "    <tr>\n",
       "      <th>1832</th>\n",
       "      <td>alloy+H-24-105</td>\n",
       "      <td>0</td>\n",
       "      <td>0</td>\n",
       "      <td>0</td>\n",
       "      <td>0</td>\n",
       "      <td>0</td>\n",
       "      <td>0</td>\n",
       "      <td>0</td>\n",
       "      <td>0</td>\n",
       "      <td>0</td>\n",
       "      <td>...</td>\n",
       "      <td>0</td>\n",
       "      <td>0</td>\n",
       "      <td>0</td>\n",
       "      <td>0</td>\n",
       "      <td>0</td>\n",
       "      <td>0</td>\n",
       "      <td>0</td>\n",
       "      <td>0</td>\n",
       "      <td>1</td>\n",
       "      <td>-0.737570</td>\n",
       "    </tr>\n",
       "    <tr>\n",
       "      <th>1833</th>\n",
       "      <td>alloy+H-24-106</td>\n",
       "      <td>0</td>\n",
       "      <td>0</td>\n",
       "      <td>0</td>\n",
       "      <td>0</td>\n",
       "      <td>0</td>\n",
       "      <td>0</td>\n",
       "      <td>0</td>\n",
       "      <td>0</td>\n",
       "      <td>0</td>\n",
       "      <td>...</td>\n",
       "      <td>1</td>\n",
       "      <td>0</td>\n",
       "      <td>0</td>\n",
       "      <td>0</td>\n",
       "      <td>0</td>\n",
       "      <td>1</td>\n",
       "      <td>0</td>\n",
       "      <td>0</td>\n",
       "      <td>0</td>\n",
       "      <td>-0.711024</td>\n",
       "    </tr>\n",
       "    <tr>\n",
       "      <th>1834</th>\n",
       "      <td>alloy+H-24-107</td>\n",
       "      <td>0</td>\n",
       "      <td>0</td>\n",
       "      <td>0</td>\n",
       "      <td>0</td>\n",
       "      <td>0</td>\n",
       "      <td>0</td>\n",
       "      <td>0</td>\n",
       "      <td>0</td>\n",
       "      <td>0</td>\n",
       "      <td>...</td>\n",
       "      <td>1</td>\n",
       "      <td>0</td>\n",
       "      <td>1</td>\n",
       "      <td>0</td>\n",
       "      <td>0</td>\n",
       "      <td>0</td>\n",
       "      <td>0</td>\n",
       "      <td>0</td>\n",
       "      <td>1</td>\n",
       "      <td>-0.803050</td>\n",
       "    </tr>\n",
       "    <tr>\n",
       "      <th>1835</th>\n",
       "      <td>alloy+H-24-136</td>\n",
       "      <td>0</td>\n",
       "      <td>0</td>\n",
       "      <td>0</td>\n",
       "      <td>0</td>\n",
       "      <td>0</td>\n",
       "      <td>0</td>\n",
       "      <td>0</td>\n",
       "      <td>0</td>\n",
       "      <td>0</td>\n",
       "      <td>...</td>\n",
       "      <td>0</td>\n",
       "      <td>1</td>\n",
       "      <td>0</td>\n",
       "      <td>0</td>\n",
       "      <td>0</td>\n",
       "      <td>0</td>\n",
       "      <td>1</td>\n",
       "      <td>0</td>\n",
       "      <td>0</td>\n",
       "      <td>-0.673005</td>\n",
       "    </tr>\n",
       "  </tbody>\n",
       "</table>\n",
       "<p>1760 rows × 70 columns</p>\n",
       "</div>"
      ],
      "text/plain": [
       "                Num.  ('Cr', 'Cr', 'Cr')  ('Cr', 'Cr', 'Mn')  \\\n",
       "0       alloy+H-0-26                   0                   0   \n",
       "1       alloy+H-0-36                   0                   0   \n",
       "2       alloy+H-0-37                   0                   0   \n",
       "3       alloy+H-0-38                   0                   0   \n",
       "4       alloy+H-0-39                   0                   0   \n",
       "...              ...                 ...                 ...   \n",
       "1831  alloy+H-24-104                   0                   0   \n",
       "1832  alloy+H-24-105                   0                   0   \n",
       "1833  alloy+H-24-106                   0                   0   \n",
       "1834  alloy+H-24-107                   0                   0   \n",
       "1835  alloy+H-24-136                   0                   0   \n",
       "\n",
       "      ('Cr', 'Cr', 'Fe')  ('Cr', 'Cr', 'Co')  ('Cr', 'Cr', 'Ni')  \\\n",
       "0                      0                   0                   0   \n",
       "1                      0                   0                   0   \n",
       "2                      0                   0                   0   \n",
       "3                      0                   0                   0   \n",
       "4                      0                   0                   0   \n",
       "...                  ...                 ...                 ...   \n",
       "1831                   0                   0                   0   \n",
       "1832                   0                   0                   0   \n",
       "1833                   0                   0                   0   \n",
       "1834                   0                   0                   0   \n",
       "1835                   0                   0                   0   \n",
       "\n",
       "      ('Cr', 'Cr', 'Cu')  ('Cr', 'Mn', 'Mn')  ('Cr', 'Mn', 'Fe')  \\\n",
       "0                      0                   0                   0   \n",
       "1                      0                   0                   0   \n",
       "2                      0                   0                   0   \n",
       "3                      0                   0                   0   \n",
       "4                      0                   0                   0   \n",
       "...                  ...                 ...                 ...   \n",
       "1831                   0                   0                   0   \n",
       "1832                   0                   0                   0   \n",
       "1833                   0                   0                   0   \n",
       "1834                   0                   0                   0   \n",
       "1835                   0                   0                   0   \n",
       "\n",
       "      ('Cr', 'Mn', 'Co')  ...  Co  Ni  Cu  Cr.1  Mn.1  Fe.1  Co.1  Ni.1  Cu.1  \\\n",
       "0                      0  ...   0   0   0     1     0     0     0     0     0   \n",
       "1                      0  ...   1   0   2     0     0     0     1     0     0   \n",
       "2                      0  ...   0   0   1     0     0     0     0     1     0   \n",
       "3                      0  ...   1   1   0     0     0     1     0     0     0   \n",
       "4                      0  ...   0   1   1     1     0     0     0     0     0   \n",
       "...                  ...  ...  ..  ..  ..   ...   ...   ...   ...   ...   ...   \n",
       "1831                   0  ...   1   0   0     0     0     0     1     0     0   \n",
       "1832                   0  ...   0   0   0     0     0     0     0     0     1   \n",
       "1833                   0  ...   1   0   0     0     0     1     0     0     0   \n",
       "1834                   0  ...   1   0   1     0     0     0     0     0     1   \n",
       "1835                   0  ...   0   1   0     0     0     0     1     0     0   \n",
       "\n",
       "        energy  \n",
       "0    -0.684893  \n",
       "1    -0.534637  \n",
       "2    -0.737187  \n",
       "3    -0.634500  \n",
       "4    -0.499132  \n",
       "...        ...  \n",
       "1831 -0.709497  \n",
       "1832 -0.737570  \n",
       "1833 -0.711024  \n",
       "1834 -0.803050  \n",
       "1835 -0.673005  \n",
       "\n",
       "[1760 rows x 70 columns]"
      ]
     },
     "execution_count": 4,
     "metadata": {},
     "output_type": "execute_result"
    }
   ],
   "source": [
    "data_fcc_de = pd.read_excel('F:/work in tohoku/a_research_work/i_Nottingham_Ling/features/fcc/ML_delete_hcp_H.xlsx',index_col=0)\n",
    "data_fcc_de"
   ]
  },
  {
   "cell_type": "code",
   "execution_count": 5,
   "id": "ff30f213-b8af-4627-8187-6146f35c1b42",
   "metadata": {},
   "outputs": [],
   "source": [
    "X_pd1 = data_fcc_de.iloc[:,0:-1]\n",
    "Y_pd1 = data_fcc_de.iloc[:,-1]"
   ]
  },
  {
   "cell_type": "code",
   "execution_count": 6,
   "id": "d1fea17a-130f-4b08-94df-fb3266b02ff5",
   "metadata": {},
   "outputs": [],
   "source": [
    "X_train1,X_test1,y_train1,y_test1 = train_test_split(X_pd1,Y_pd1,test_size=0.2,random_state=0,shuffle=True)\n",
    "X_train_pd1 = X_train1.iloc[:,1:]\n",
    "X_test_pd1 = X_test1.iloc[:,1:]\n",
    "\n",
    "X_train_np1 = np.array(X_train_pd1)\n",
    "X_test_np1 = np.array(X_test_pd1)\n",
    "\n",
    "y_train_np1 = np.array(y_train1)\n",
    "y_test_np1 = np.array(y_test1)"
   ]
  },
  {
   "cell_type": "code",
   "execution_count": 7,
   "id": "e4d3f50f-a13f-4323-9b07-278e92e08e3f",
   "metadata": {},
   "outputs": [
    {
     "name": "stdout",
     "output_type": "stream",
     "text": [
      "{'kernel__k2__noise_level': 0.8697490026177834, 'kernel__k1__k2__length_scale': 13.688745095370805, 'kernel__k1__k1__constant_value': 4.641588833612781}\n",
      "0.620582218814609\n"
     ]
    }
   ],
   "source": [
    "from sklearn.gaussian_process import GaussianProcessRegressor\n",
    "from sklearn.gaussian_process.kernels import RBF, WhiteKernel, ConstantKernel\n",
    "from sklearn.model_selection import RandomizedSearchCV\n",
    "import numpy as np\n",
    "\n",
    "# Define the kernel with ConstantKernel\n",
    "kernel = ConstantKernel() * RBF() + WhiteKernel()\n",
    "\n",
    "# Initialize the GaussianProcessRegressor\n",
    "gp = GaussianProcessRegressor(kernel=kernel)\n",
    "\n",
    "# Define the hyperparameter distributions\n",
    "param_distributions = {\n",
    "    \"kernel__k1__k1__constant_value\": np.logspace(-2, 1, 100)**2,\n",
    "    \"kernel__k1__k2__length_scale\": np.logspace(-2, 2.5, 100),\n",
    "    \"kernel__k2__noise_level\": np.logspace(-3, 0, 100)\n",
    "}\n",
    "\n",
    "# Create the RandomizedSearchCV object\n",
    "random_search = RandomizedSearchCV(estimator=gp, param_distributions=param_distributions, n_iter=30, cv=10, n_jobs=-1, random_state=42)\n",
    "\n",
    "# Fit the RandomizedSearchCV object to the data\n",
    "random_search.fit(X_train_np1,y_train_np1)\n",
    "\n",
    "# Print the best parameters\n",
    "print(random_search.best_params_)\n",
    "print(random_search.best_score_)"
   ]
  },
  {
   "cell_type": "code",
   "execution_count": 38,
   "id": "86580a08-db06-49cf-a979-3befb617daa7",
   "metadata": {},
   "outputs": [
    {
     "name": "stdout",
     "output_type": "stream",
     "text": [
      "0.6198003689545174\n",
      "-0.003057855966909581\n",
      "0.7872740113546981\n",
      "0.055297883927954976\n"
     ]
    }
   ],
   "source": [
    "from sklearn.gaussian_process import GaussianProcessRegressor\n",
    "from sklearn.gaussian_process.kernels import RBF, WhiteKernel\n",
    "\n",
    "kernel = 57.2236765935022 * RBF(length_scale=1.232846739442066) + WhiteKernel(noise_level=0.9326033468832199)\n",
    "\n",
    "# 高斯过程回归模型\n",
    "gp_test = GaussianProcessRegressor(kernel=kernel, n_restarts_optimizer=10)\n",
    "score = cross_val_score(gp_test,X_train_np1,y_train_np1,cv=10,n_jobs=-1).mean()\n",
    "mse = cross_val_score(gp_test,X_train_np1,y_train_np1,cv=10,n_jobs=-1, scoring = 'neg_mean_squared_error').mean()\n",
    "\n",
    "print(score) # R2\n",
    "print(mse)                  \n",
    "print(np.sqrt(score))       \n",
    "print(np.sqrt(abs(mse)))"
   ]
  },
  {
   "cell_type": "code",
   "execution_count": 39,
   "id": "413b933f-8131-4fb3-bb81-b2f29eedc18b",
   "metadata": {},
   "outputs": [],
   "source": [
    "predicted_gp = cross_val_predict(gp_test,X_train_np1,y_train_np1, cv=10,n_jobs=-1)"
   ]
  },
  {
   "cell_type": "code",
   "execution_count": 40,
   "id": "f7c2530f-1cd0-4e0a-bf98-4b58e193f30e",
   "metadata": {},
   "outputs": [
    {
     "data": {
      "image/png": "[encoded data removed]",
      "text/plain": [
       "<Figure size 600x600 with 1 Axes>"
      ]
     },
     "metadata": {},
     "output_type": "display_data"
    }
   ],
   "source": [
    "plt_figure(y_train_np1,predicted_gp,-1.5,0.5)"
   ]
  },
  {
   "cell_type": "code",
   "execution_count": 41,
   "id": "d9bb9c83-5901-4396-8e19-e1f83702131e",
   "metadata": {},
   "outputs": [
    {
     "name": "stdout",
     "output_type": "stream",
     "text": [
      "0.6786622149263362\n",
      "0.0026813486750722018\n",
      "0.7872740113546981\n",
      "0.05178174074972955\n"
     ]
    }
   ],
   "source": [
    "clf_xgb = gp_test.fit(X_train_np1,y_train_np1)\n",
    "train_xgb = clf_xgb.predict(X_train_np1)\n",
    "#X_test_pd_np_gbr = np.array(X_test_pd[index_])\n",
    "#clf_mlpr.predict(X_test_stan_)\n",
    "R2 = r2_score(y_train_np1,train_xgb)\n",
    "mse = mean_squared_error(y_train_np1,train_xgb)\n",
    "print(R2)\n",
    "print(mse)\n",
    "print(np.sqrt(score))       \n",
    "print(np.sqrt(abs(mse)))"
   ]
  },
  {
   "cell_type": "code",
   "execution_count": 48,
   "id": "f0ecd7a8-948a-4c63-86b8-52a73d91cc84",
   "metadata": {},
   "outputs": [
    {
     "data": {
      "image/png": "[encoded data removed]",
      "text/plain": [
       "<Figure size 600x600 with 1 Axes>"
      ]
     },
     "metadata": {},
     "output_type": "display_data"
    }
   ],
   "source": [
    "plt_figure(y_train_np1,train_xgb,-1,0.1)"
   ]
  },
  {
   "cell_type": "code",
   "execution_count": 42,
   "id": "a2c5c095-071e-4bdf-a162-a6c0ce79367b",
   "metadata": {},
   "outputs": [
    {
     "name": "stdout",
     "output_type": "stream",
     "text": [
      "0.6798075543482796\n",
      "0.0025910366568029706\n",
      "0.7872740113546981\n",
      "0.05090222644249435\n"
     ]
    }
   ],
   "source": [
    "#X_test_pd_np_gbr = np.array(X_test_pd[index_])\n",
    "R2 = r2_score(y_test_np1,clf_xgb.predict(X_test_np1))\n",
    "mse = mean_squared_error(y_test_np1,clf_xgb.predict(X_test_np1))\n",
    "print(R2)\n",
    "print(mse)\n",
    "print(np.sqrt(score))       \n",
    "print(np.sqrt(abs(mse)))"
   ]
  },
  {
   "cell_type": "code",
   "execution_count": 47,
   "id": "acf3b1c1-bcd4-45f2-a74a-2f534a6892e3",
   "metadata": {},
   "outputs": [
    {
     "data": {
      "image/png": "[encoded data removed]",
      "text/plain": [
       "<Figure size 600x600 with 1 Axes>"
      ]
     },
     "metadata": {},
     "output_type": "display_data"
    }
   ],
   "source": [
    "plt_figure(y_test_np1,clf_xgb.predict(X_test_np1),-1,0.1)"
   ]
  },
  {
   "cell_type": "code",
   "execution_count": null,
   "id": "fb0ebd03-4db3-4062-9208-5c7b4bb65879",
   "metadata": {},
   "outputs": [],
   "source": []
  },
  {
   "cell_type": "code",
   "execution_count": 25,
   "id": "c9c32073-c73c-4217-8517-3211326ea89d",
   "metadata": {},
   "outputs": [],
   "source": [
    "i = 24\n",
    "j = 19\n",
    "path_POSCAR = r'F:/work in tohoku/a_research_work/i_Nottingham_Ling/alloy+H-dft-POSCAR/' + 'POSCAR.' + str(int(i)) + '.' + str(int(j))\n",
    "path_CONTCAR = r'F:/work in tohoku/a_research_work/i_Nottingham_Ling/HEA-H-CO-DFT-ref-data/alloy+H-dft-ref-data/alloy+H-dft-ref-data/' + 'CONTCAR.' + str(int(i)) + '.' + str(int(j))"
   ]
  },
  {
   "cell_type": "code",
   "execution_count": 26,
   "id": "1984869f-0f49-4342-a2d8-b87923d2c358",
   "metadata": {},
   "outputs": [],
   "source": [
    "structure_POSCAR = read(path_POSCAR)\n",
    "super_structure_POSCAR = structure_POSCAR * (2, 2, 1)\n",
    "\n",
    "structure_CONTCAR = read(path_CONTCAR)\n",
    "super_structure_CONTCAR = structure_CONTCAR * (2, 2, 1)"
   ]
  },
  {
   "cell_type": "code",
   "execution_count": 30,
   "id": "e392205b-3e3f-4da8-96a1-37915fb1a20f",
   "metadata": {},
   "outputs": [
    {
     "data": {
      "text/plain": [
       "<Popen: returncode: None args: ['D:\\\\Anaconda\\\\anzhuang\\\\python.exe', '-m', ...>"
      ]
     },
     "execution_count": 30,
     "metadata": {},
     "output_type": "execute_result"
    }
   ],
   "source": [
    "view(super_structure_POSCAR)"
   ]
  },
  {
   "cell_type": "code",
   "execution_count": 27,
   "id": "1535303a-d5f6-48d7-8a3f-7e18f08a522d",
   "metadata": {},
   "outputs": [
    {
     "data": {
      "text/plain": [
       "<Popen: returncode: None args: ['D:\\\\Anaconda\\\\anzhuang\\\\python.exe', '-m', ...>"
      ]
     },
     "execution_count": 27,
     "metadata": {},
     "output_type": "execute_result"
    }
   ],
   "source": [
    "view(super_structure_CONTCAR)"
   ]
  },
  {
   "cell_type": "code",
   "execution_count": null,
   "id": "3d74ab3b-4a0c-46cc-8983-1d94713c69de",
   "metadata": {},
   "outputs": [],
   "source": [
    "H_positions,H_layer_index = H_position(super_structure_CONTCAR)\n",
    "top_layer_index, second_layer_index,top_layer_atoms,second_layer_atoms = top_second_layer(super_structure_CONTCAR,all_atoms,metal_atoms,H_positions)        \n",
    "adsorb_site_index, three_surround_index_name_distance = get_adsorb_site_surrounded_three(H_positions,top_layer_atoms,top_layer_index)        "
   ]
  },
  {
   "cell_type": "code",
   "execution_count": null,
   "id": "09bd6044-1192-4ba3-84ec-db87bfffb602",
   "metadata": {},
   "outputs": [],
   "source": [
    "H_positions"
   ]
  },
  {
   "cell_type": "code",
   "execution_count": null,
   "id": "8224c41a-f331-4500-b793-41e0fa1b37df",
   "metadata": {},
   "outputs": [],
   "source": [
    "three_surround_index_name_distance"
   ]
  },
  {
   "cell_type": "code",
   "execution_count": null,
   "id": "ace8c60f-753e-4255-bed5-cc0a998ecc88",
   "metadata": {},
   "outputs": [],
   "source": [
    "super_structure_CONTCAR"
   ]
  },
  {
   "cell_type": "code",
   "execution_count": null,
   "id": "6235b9c3-14d5-475c-8ece-5c018aa929af",
   "metadata": {},
   "outputs": [],
   "source": [
    "# 打印这些原子的坐标\n",
    "position_three = []\n",
    "three_index = []\n",
    "for index_i in three_surround_index_name_distance:\n",
    "    index = index_i[0]\n",
    "    position = super_structure_CONTCAR[index].position\n",
    "    position_three.append(position)\n",
    "    three_index.append(index)"
   ]
  },
  {
   "cell_type": "code",
   "execution_count": null,
   "id": "ff3ab05a-6017-4ec0-94f0-399532578be9",
   "metadata": {},
   "outputs": [],
   "source": [
    "three_index"
   ]
  },
  {
   "cell_type": "code",
   "execution_count": null,
   "id": "d05c48b7-592d-4523-9e7b-e3155a8c1fac",
   "metadata": {},
   "outputs": [],
   "source": [
    "# 计算并打印两两之间的中点\n",
    "def calculate_midpoint(position_three):\n",
    "    midpoints = []\n",
    "    for i in range(len(position_three)):\n",
    "        for j in range(i + 1, len(position_three)):\n",
    "            midpoint = (position_three[i]+position_three[j])/2\n",
    "            midpoints.append(midpoint)\n",
    "    return midpoints"
   ]
  },
  {
   "cell_type": "code",
   "execution_count": null,
   "id": "15c80cf7-4036-402d-b390-8fc42dfe7069",
   "metadata": {},
   "outputs": [],
   "source": [
    "midpoints = calculate_midpoint(position_three)\n",
    "midpoints"
   ]
  },
  {
   "cell_type": "code",
   "execution_count": null,
   "id": "33eb94f8-684f-4fd6-bcb5-e6d7877b6eb6",
   "metadata": {},
   "outputs": [],
   "source": [
    "def adsorb_H_index(super_structure,H_positions,H_layer_index):\n",
    "    # 计算晶胞中心\n",
    "    #cell_center = np.array(super_structure_CONTCAR.cell.diagonal()) / 2\n",
    "    cell_center = np.mean(super_structure.cell, axis=0)\n",
    "    # 计算每个氢原子到晶胞中心的距离\n",
    "    distances_to_center = np.linalg.norm(H_positions - cell_center, axis=1)\n",
    "    \n",
    "    # 找到最近的氢原子\n",
    "    closest_H_index = np.argmin(distances_to_center)\n",
    "    closest_H_coords = H_positions[closest_H_index]\n",
    "    adsorb_site_index = H_layer_index[closest_H_index]\n",
    "    return adsorb_site_index,closest_H_coords"
   ]
  },
  {
   "cell_type": "code",
   "execution_count": null,
   "id": "c7271bd7-861f-434f-a3ba-93cd8312798c",
   "metadata": {},
   "outputs": [],
   "source": [
    "second_three_atom_top_list = []\n",
    "for i in range(len(midpoints)):\n",
    "    midpoints_i = midpoints[i]\n",
    "    distances_top = [np.linalg.norm(atom.position - midpoints_i) for atom in top_layer_atoms]\n",
    "    sorted_indices = sorted(range(len(distances_top)), key=lambda j: distances_top[j])[0:4]\n",
    "    nearest_atoms = [(top_layer_index[k], top_layer_atoms[k].symbol, distances_top[k]) for k in sorted_indices]\n",
    "    for j in range(4):\n",
    "        nearest_index = nearest_atoms[j][0]\n",
    "        nearest_atom = nearest_atoms[j][1]\n",
    "        if nearest_index in three_index:\n",
    "            print('1')\n",
    "            continue\n",
    "        else:\n",
    "            second_three_atom_top_list.append([nearest_index,nearest_atom])"
   ]
  },
  {
   "cell_type": "code",
   "execution_count": null,
   "id": "b7fa80ae-5e30-4ab5-a0b1-0c77328d6066",
   "metadata": {},
   "outputs": [],
   "source": [
    "three_index"
   ]
  },
  {
   "cell_type": "code",
   "execution_count": null,
   "id": "e45f472c-62a1-4d19-8bee-d957893cc309",
   "metadata": {},
   "outputs": [],
   "source": [
    "from ase import Atoms\n",
    "import numpy as np\n",
    "\n",
    "H_coordinates = H_positions\n",
    "\n",
    "# 计算晶胞中心\n",
    "#cell_center = np.array(super_structure_CONTCAR.cell.diagonal()) / 2\n",
    "cell_center = np.mean(super_structure_CONTCAR.cell, axis=0)\n",
    "# 计算每个氢原子到晶胞中心的距离\n",
    "distances_to_center = np.linalg.norm(H_coordinates - cell_center, axis=1)\n",
    "\n",
    "# 找到最近的氢原子\n",
    "closest_H_index = np.argmin(distances_to_center)\n",
    "closest_H_coords = H_coordinates[closest_H_index]\n",
    "\n",
    "print(\"最近的氢原子坐标:\", closest_H_coords)\n"
   ]
  },
  {
   "cell_type": "code",
   "execution_count": null,
   "id": "d02a6cc5-b1c0-46dd-913a-f56339c29e81",
   "metadata": {},
   "outputs": [],
   "source": [
    "H_layer_index"
   ]
  },
  {
   "cell_type": "code",
   "execution_count": null,
   "id": "919a7a32-d43d-45d8-a644-46ae6fcb2490",
   "metadata": {},
   "outputs": [],
   "source": [
    "distances_to_center"
   ]
  },
  {
   "cell_type": "code",
   "execution_count": null,
   "id": "6239f1af-6fb5-46db-8ba0-d5b41c031214",
   "metadata": {},
   "outputs": [],
   "source": [
    "second_nearest_atoms = get_surround_three_second(super_structure,second_layer_atoms,adsorb_site_index)\n",
    "first_layer_first_atom = get_first_three(six_surround_index_name_distance)\n",
    "first_layer_second_count = six_surround_index_name_distance[3:]        \n",
    "atom_counts_1_layersecond_top = count_atom_number(first_layer_second_count) \n",
    "            \n",
    "features = []\n",
    "features.append('alloy+H-' +str(int(i)) + '-' + str(int(j)))\n",
    "for m_i in range(len(combinations)):\n",
    "    com_i = combinations[m_i]\n",
    "    sorted_com_i = sorted(com_i)\n",
    "    sorted_first_atom = sorted(first_layer_first_atom)\n",
    "    if sorted_first_atom == sorted_com_i:\n",
    "        features.append(1)\n",
    "    else:\n",
    "        features.append(0)   \n",
    "                       \n",
    "for m_k in metal_atoms:\n",
    "    if m_k in atom_counts_1_layersecond_top:\n",
    "        atom_count = atom_counts_1_layersecond_top[m_k]\n",
    "        features.append(atom_count)\n",
    "    else:\n",
    "        features.append(0)\n",
    "                        \n",
    "           \n",
    "diff_1_2_atom = abs(second_nearest_atoms[0][-1] - second_nearest_atoms[1][-1])\n",
    "if diff_1_2_atom>0.2:\n",
    "    second_layer_results = second_nearest_atoms[0]\n",
    "    second_site = second_nearest_atoms[0][1]\n",
    "    for m_j in metal_atoms:\n",
    "        if m_j == second_site:\n",
    "            features.append(1)\n",
    "        else:\n",
    "            features.append(0)\n",
    "                        \n",
    "elif diff_1_2_atom<0.2:\n",
    "    second_layer_second = count_atom_number(second_nearest_atoms) \n",
    "    for m_j in metal_atoms:\n",
    "        if m_j in second_layer_second:\n",
    "            atom_count = second_layer_second[m_j]\n",
    "            features.append(atom_count)\n",
    "        else:\n",
    "            features.append(0)"
   ]
  },
  {
   "cell_type": "code",
   "execution_count": null,
   "id": "726a91f0-b945-4018-b211-268d2880d338",
   "metadata": {},
   "outputs": [],
   "source": []
  },
  {
   "cell_type": "code",
   "execution_count": null,
   "id": "eeb321cf-756e-4a82-9f41-5a1b607d579c",
   "metadata": {},
   "outputs": [],
   "source": []
  },
  {
   "cell_type": "code",
   "execution_count": null,
   "id": "e61b71c4-92ad-4a4a-9419-2cace0f60bd9",
   "metadata": {},
   "outputs": [],
   "source": []
  },
  {
   "cell_type": "code",
   "execution_count": null,
   "id": "da00360a-d8b4-4522-b02c-b49428e5ca42",
   "metadata": {},
   "outputs": [],
   "source": []
  },
  {
   "cell_type": "code",
   "execution_count": null,
   "id": "476bc19d-3bff-483c-bea7-d514ac94fef5",
   "metadata": {},
   "outputs": [],
   "source": []
  },
  {
   "cell_type": "code",
   "execution_count": null,
   "id": "7dc028ea-1189-4690-8f97-3c6e68b542bc",
   "metadata": {},
   "outputs": [],
   "source": []
  },
  {
   "cell_type": "code",
   "execution_count": null,
   "id": "7ded20b4-b95a-4008-beed-b69b5e7176be",
   "metadata": {},
   "outputs": [],
   "source": [
    "data_feature_adsorp_fcc_final"
   ]
  },
  {
   "cell_type": "code",
   "execution_count": null,
   "id": "ef58df1a-d09a-444e-8b77-1f0d05c0d92d",
   "metadata": {},
   "outputs": [],
   "source": [
    "data_feature_adsorp_fcc_final.to_excel('F:/work in tohoku/a_research_work/i_Nottingham_Ling/alloy+H-dft-POSCAR/data_feature_adsorp_fcc_final.xlsx')"
   ]
  },
  {
   "cell_type": "code",
   "execution_count": null,
   "id": "6dcb1125-7ce9-42c1-9e55-9b4038b2123d",
   "metadata": {},
   "outputs": [],
   "source": []
  },
  {
   "cell_type": "code",
   "execution_count": null,
   "id": "d9e54cf2-c374-453b-b641-05c3c061fafa",
   "metadata": {},
   "outputs": [],
   "source": [
    "data_feature_adsorp_hcp_final = pd.DataFrame()\n",
    "for feature_i in data_name_hcp_features_all:\n",
    "    if feature_i in data_name_adsoption_energy_np:\n",
    "        #data_feature = features_all[features_all['Num.'] ==feature_i]\n",
    "        data_feature = features_hcp_all.loc[features_hcp_all['Num.'] == feature_i].copy()\n",
    "        data_adsorb = data_adsoption_energy[data_adsoption_energy['# H adsorption energy in eV per H'] ==feature_i]['EH']\n",
    "        data_adsorb_np = np.array(data_adsorb)\n",
    "        data_feature.loc[:,'energy'] = data_adsorb_np\n",
    "        #data_feature_adsorp = pd.concat([data_feature,data_adsorb],axis = 1,ignore_index=True)\n",
    "        data_feature_adsorp_hcp_final = pd.concat([data_feature_adsorp_hcp_final,data_feature],axis = 0, ignore_index=True)\n",
    "    else:\n",
    "        continue"
   ]
  },
  {
   "cell_type": "code",
   "execution_count": null,
   "id": "8edf5b1b-22d2-4c99-a152-0d6b1be96b48",
   "metadata": {},
   "outputs": [],
   "source": [
    "data_feature_adsorp_hcp_final.to_excel('F:/work in tohoku/a_research_work/i_Nottingham_Ling/alloy+H-dft-POSCAR/data_feature_adsorp_hcp_final.xlsx')"
   ]
  },
  {
   "cell_type": "code",
   "execution_count": null,
   "id": "672fe528-69d4-4ea7-a7a3-db27023f2fd1",
   "metadata": {},
   "outputs": [],
   "source": [
    "data_feature_adsorp_hcp_final"
   ]
  },
  {
   "cell_type": "code",
   "execution_count": null,
   "id": "30791a1d-860e-4733-bdc4-21661846037b",
   "metadata": {},
   "outputs": [],
   "source": []
  },
  {
   "cell_type": "code",
   "execution_count": null,
   "id": "fa65eff9-d0b5-4dda-9a7c-ffc254403dea",
   "metadata": {},
   "outputs": [],
   "source": [
    "X_pd = data_feature_adsorp_hcp_final.iloc[:,0:-1]\n",
    "Y_pd = data_feature_adsorp_hcp_final.iloc[:,-1]"
   ]
  },
  {
   "cell_type": "code",
   "execution_count": null,
   "id": "cb7a7a3c-1694-4c11-ae05-1d3a43d24118",
   "metadata": {},
   "outputs": [],
   "source": [
    "X_train,X_test,y_train,y_test = train_test_split(X_pd,Y_pd,test_size=0.2,random_state=0,shuffle=True)\n",
    "X_train_pd = X_train.iloc[:,1:]\n",
    "X_test_pd = X_test.iloc[:,1:]\n",
    "\n",
    "X_train_np = np.array(X_train_pd)\n",
    "X_test_np = np.array(X_test_pd)\n",
    "\n",
    "y_train_np = np.array(y_train)\n",
    "y_test_np = np.array(y_test)"
   ]
  },
  {
   "cell_type": "code",
   "execution_count": null,
   "id": "a3c134e2-51e8-4f38-9eeb-d300c3f4044c",
   "metadata": {},
   "outputs": [],
   "source": [
    "X_train"
   ]
  },
  {
   "cell_type": "code",
   "execution_count": null,
   "id": "5a80c2f4-bfa6-4c15-bed7-20990a6e510f",
   "metadata": {},
   "outputs": [],
   "source": [
    "import xgboost as xgb"
   ]
  },
  {
   "cell_type": "code",
   "execution_count": null,
   "id": "4867bbdb-1ea9-49d9-8d9d-84b3ba89c71f",
   "metadata": {},
   "outputs": [],
   "source": [
    "from xgboost import XGBRegressor\n",
    "xgb_test =  XGBRegressor(n_estimators=500,\n",
    "                        colsample_bytree=0.8,\n",
    "                        #gamma=0.0,\n",
    "                        max_depth=6,\n",
    "                         min_child_weight = 4,\n",
    "                         reg_alpha = 10,\n",
    "                         reg_lambda = 1,\n",
    "                         subsample = 0.8,\n",
    "                        learning_rate=0.01,\n",
    "                        random_state = 0,\n",
    "                        n_jobs = 2) \n",
    "score = cross_val_score(xgb_test,X_train_np,y_train_np,cv=10).mean()\n",
    "mse = cross_val_score(xgb_test,X_train_np,y_train_np,cv=10,scoring = 'neg_mean_squared_error').mean()\n",
    "\n",
    "print(score) # R2\n",
    "print(mse)                  \n",
    "print(np.sqrt(score))       \n",
    "print(np.sqrt(abs(mse)))"
   ]
  },
  {
   "cell_type": "code",
   "execution_count": null,
   "id": "79ee643e-d104-4bbf-9f62-79267cfcdb27",
   "metadata": {},
   "outputs": [],
   "source": [
    "predicted_xgb = cross_val_predict(xgb_test,X_train_np,y_train_np, cv=10,n_jobs=-1)"
   ]
  },
  {
   "cell_type": "code",
   "execution_count": null,
   "id": "ac7c2a9f-e3d8-4942-83d3-c8e3dae816f0",
   "metadata": {},
   "outputs": [],
   "source": [
    "plt_figure(y_train_np,predicted_xgb,-1.5,0.5)"
   ]
  },
  {
   "cell_type": "code",
   "execution_count": null,
   "id": "13d5f4df-c6ab-47fa-96b8-53f0faa88b34",
   "metadata": {},
   "outputs": [],
   "source": [
    "from sklearn.gaussian_process import GaussianProcessRegressor\n",
    "from sklearn.gaussian_process.kernels import RBF, WhiteKernel\n",
    "\n",
    "kernel = 100.0**2 * RBF(length_scale=100.0) + WhiteKernel(noise_level=0.03162277660168379)\n",
    "\n",
    "# 高斯过程回归模型\n",
    "gp_test = GaussianProcessRegressor(kernel=kernel, n_restarts_optimizer=10)\n",
    "score = cross_val_score(gp_test,X_train_np,y_train_np,cv=10,n_jobs=-1).mean()\n",
    "mse = cross_val_score(gp_test,X_train_np,y_train_np,cv=10,n_jobs=-1, scoring = 'neg_mean_squared_error').mean()\n",
    "\n",
    "print(score) # R2\n",
    "print(mse)                  \n",
    "print(np.sqrt(score))       \n",
    "print(np.sqrt(abs(mse)))"
   ]
  },
  {
   "cell_type": "code",
   "execution_count": null,
   "id": "887878d0-b79f-4cc8-b545-796647821f27",
   "metadata": {},
   "outputs": [],
   "source": [
    "predicted_xgb = cross_val_predict(gp_test,X_train_np,y_train_np, cv=10,n_jobs=-1)"
   ]
  },
  {
   "cell_type": "code",
   "execution_count": null,
   "id": "52534be5-c2f1-47d9-aefc-3ac7d9d41145",
   "metadata": {},
   "outputs": [],
   "source": [
    "plt_figure(y_train_np,predicted_xgb,-1.5,0.5)"
   ]
  },
  {
   "cell_type": "code",
   "execution_count": null,
   "id": "94118456-0d9d-493f-aab3-47e7bd27cf15",
   "metadata": {},
   "outputs": [],
   "source": [
    "dtrain = xgb.DMatrix(X_train_np, label=y_train_np)\n",
    "dtest = xgb.DMatrix(X_test_np, label=y_test_np)\n"
   ]
  },
  {
   "cell_type": "code",
   "execution_count": null,
   "id": "a4c4ad07-fb5f-4c46-bbbd-406e7e2dd1dd",
   "metadata": {},
   "outputs": [],
   "source": [
    "\n",
    "\n",
    "# 训练模型\n",
    "bst = xgb.train(params, dtrain, num_boost_round=100)\n",
    "\n",
    "# 预测\n",
    "y_pred = bst.predict(dtest)\n",
    "\n",
    "# 计算均方误差\n",
    "mse = mean_squared_error(y_test, y_pred)\n",
    "print(f\"Mean Squared Error: {mse}\")"
   ]
  },
  {
   "cell_type": "code",
   "execution_count": null,
   "id": "a52300e4-fa94-4c60-bfed-16d010f788b1",
   "metadata": {},
   "outputs": [],
   "source": [
    "score = cross_val_score(xgb_test,X_train_np,y_train_np,cv=10).mean()"
   ]
  },
  {
   "cell_type": "code",
   "execution_count": null,
   "id": "8f6bcfad-a6ae-4655-ac6d-d75f7db4697a",
   "metadata": {},
   "outputs": [],
   "source": [
    "data_feature_adsorp_fcc_final.head()"
   ]
  },
  {
   "cell_type": "code",
   "execution_count": null,
   "id": "26740629-93d6-4494-adb7-e0b7f9ab2860",
   "metadata": {},
   "outputs": [],
   "source": [
    "data_feature_adsorp_fcc_final.shape"
   ]
  },
  {
   "cell_type": "code",
   "execution_count": null,
   "id": "2419c6ca-6bf7-462a-acea-769ddedbccb9",
   "metadata": {},
   "outputs": [],
   "source": []
  },
  {
   "cell_type": "code",
   "execution_count": null,
   "id": "f1e707bc-8d63-4979-90f9-70d947002db4",
   "metadata": {},
   "outputs": [],
   "source": []
  },
  {
   "cell_type": "code",
   "execution_count": null,
   "id": "fb342d20-9e9e-46ca-8594-2dd67b1d789a",
   "metadata": {},
   "outputs": [],
   "source": [
    "X_com_pd = data_feature_adsorp_fcc_final.iloc[:,1:-1]"
   ]
  },
  {
   "cell_type": "code",
   "execution_count": null,
   "id": "e010ba31-d79f-4c0f-9f62-195347358160",
   "metadata": {},
   "outputs": [],
   "source": [
    "com_list = []\n",
    "\n",
    "# 遍历每一行并生成格式化的字符串\n",
    "for index, row in data_com_pd.iterrows():\n",
    "    formatted_str = ''\n",
    "    for column in data_com_pd.columns:\n",
    "        value = row[column]\n",
    "        # 如果值大于0，则将其添加到格式化的字符串中\n",
    "        if value > 0:\n",
    "            formatted_str += f\"{column}{value}\"\n",
    "    # 更新'Formatted'列的值\n",
    "    com_list.append(formatted_str)\n"
   ]
  },
  {
   "cell_type": "code",
   "execution_count": null,
   "id": "0270dafe-effd-403f-bd56-17e0038dfe07",
   "metadata": {},
   "outputs": [],
   "source": [
    "X_com_pd.head()"
   ]
  },
  {
   "cell_type": "code",
   "execution_count": null,
   "id": "226d3871-9001-4170-980e-3ddc75070021",
   "metadata": {},
   "outputs": [],
   "source": [
    "X_com_pd_i = X_com_pd.iloc[0,0:56]"
   ]
  },
  {
   "cell_type": "code",
   "execution_count": null,
   "id": "cde364e8-aa1a-43d3-9320-536549a60b68",
   "metadata": {},
   "outputs": [],
   "source": [
    "X_com_pd_i[X_com_pd_i != 0]"
   ]
  },
  {
   "cell_type": "code",
   "execution_count": null,
   "id": "263a49b0-4bb1-4173-8ce8-53f5fd865daa",
   "metadata": {},
   "outputs": [],
   "source": [
    "X_com_pd.iterrows()"
   ]
  },
  {
   "cell_type": "code",
   "execution_count": null,
   "id": "2622a457-a73a-4558-8e56-ceca8e61a173",
   "metadata": {},
   "outputs": [],
   "source": [
    "def get_adsorb_site_surrounded_six(H_positions,top_layer_atoms,top_layer_index):\n",
    "    adsorb_site_surrounded_six_all = []\n",
    "    for i in range(len(H_positions)):  \n",
    "        # 获取距离最近的六个原子的索引和距离\n",
    "        distances_top = [np.linalg.norm(atom.position - H_positions[i]) for atom in top_layer_atoms]\n",
    "        sorted_indices = sorted(range(len(distances_top)), key=lambda j: distances_top[j])[0:3]\n",
    "        nearest_atoms = [(top_layer_index[k], top_layer_atoms[k].symbol, distances_top[k]) for k in sorted_indices]\n",
    "        metal_surrd_adsorb = 0\n",
    "        for m in range(len(nearest_atoms)):\n",
    "            dis = nearest_atoms[m][-1]\n",
    "            if dis < 2.5:\n",
    "                metal_surrd_adsorb += 1\n",
    "        if metal_surrd_adsorb == 3:\n",
    "            adsorb_site_surrounded_six_all.append([H_layer_index[i],nearest_atoms])\n",
    "    #if len(adsorb_site_surrounded_six) >= 1:  \n",
    "    # adsorb_site_surrounded_six = adsorb_site_surrounded_six_all[0]\n",
    "    # adsorb_site_index = adsorb_site_surrounded_six[0]\n",
    "    # six_surround_index_name_distance = adsorb_site_surrounded_six[1]\n",
    "    return adsorb_site_surrounded_six_all"
   ]
  },
  {
   "cell_type": "code",
   "execution_count": null,
   "id": "91960cca-fc5b-4b60-b408-e629103fec50",
   "metadata": {},
   "outputs": [],
   "source": [
    "adsorb_site_surrounded_six_all = get_adsorb_site_surrounded_six(H_positions,top_layer_atoms,top_layer_index)"
   ]
  },
  {
   "cell_type": "code",
   "execution_count": null,
   "id": "f54ab48f-662f-4440-b293-b2b58cd7d45c",
   "metadata": {},
   "outputs": [],
   "source": [
    "adsorb_site_surrounded_six_all"
   ]
  },
  {
   "cell_type": "code",
   "execution_count": null,
   "id": "fab30aba-62a2-4895-92c3-6f5cefd15b4d",
   "metadata": {},
   "outputs": [],
   "source": [
    "H_layer_index"
   ]
  },
  {
   "cell_type": "code",
   "execution_count": null,
   "id": "6ecb99a5-006a-4064-8a0a-ddb20ce8faa0",
   "metadata": {},
   "outputs": [],
   "source": [
    "adsorb_site_surrounded_six_all = []\n",
    "for i in range(len(H_positions)):  \n",
    "    # 获取距离最近的六个原子的索引和距离\n",
    "    print(i)\n",
    "    distances_top = [np.linalg.norm(atom.position - H_positions[i]) for atom in top_layer_atoms]\n",
    "    sorted_indices = sorted(range(len(distances_top)), key=lambda j: distances_top[j])[0:6]\n",
    "    nearest_atoms = [(top_layer_index[k], top_layer_atoms[k].symbol, distances_top[k]) for k in sorted_indices]\n",
    "    print(nearest_atoms)\n",
    "    metal_surrd_adsorb = 0\n",
    "    for m in range(len(nearest_atoms)):\n",
    "        dis = nearest_atoms[m][-1]\n",
    "        if dis < 3.8:\n",
    "            metal_surrd_adsorb += 1\n",
    "    if metal_surrd_adsorb == 6:\n",
    "        adsorb_site_surrounded_six_all.append([H_layer_index[i],nearest_atoms])\n",
    "    #if len(adsorb_site_surrounded_six) >= 1:  \n",
    "adsorb_site_surrounded_six = adsorb_site_surrounded_six_all[0]\n",
    "adsorb_site_index = adsorb_site_surrounded_six[0]\n",
    "six_surround_index_name_distance = adsorb_site_surrounded_six[1]"
   ]
  },
  {
   "cell_type": "code",
   "execution_count": null,
   "id": "a52be9dc-57fc-44ae-9cdc-64234f90455b",
   "metadata": {},
   "outputs": [],
   "source": [
    "def get_adsorb_site_surrounded_three(closest_H_coords,top_layer_atoms,top_layer_index):\n",
    "    adsorb_site_surrounded_three_all = []  \n",
    "    distances_top = [np.linalg.norm(atom.position - closest_H_coords) for atom in top_layer_atoms]\n",
    "    sorted_indices = sorted(range(len(distances_top)), key=lambda j: distances_top[j])[0:3]\n",
    "    nearest_atoms_three = [(top_layer_index[k], top_layer_atoms[k].symbol, distances_top[k]) for k in sorted_indices]\n",
    "    return nearest_atoms_three"
   ]
  },
  {
   "cell_type": "code",
   "execution_count": null,
   "id": "084e7e23-b067-43dc-8fa8-0cb621d7e4b4",
   "metadata": {},
   "outputs": [],
   "source": [
    "adsorb_site_surrounded_six_all"
   ]
  },
  {
   "cell_type": "code",
   "execution_count": null,
   "id": "b293d0be-115f-4dfb-a305-dad812b1f278",
   "metadata": {},
   "outputs": [],
   "source": [
    "adsorb_site_surrounded_six"
   ]
  },
  {
   "cell_type": "code",
   "execution_count": null,
   "id": "5a478341-91d1-42e5-82ce-434e5ebed5e2",
   "metadata": {},
   "outputs": [],
   "source": [
    "sorted_indices"
   ]
  },
  {
   "cell_type": "code",
   "execution_count": null,
   "id": "be68051a-a4eb-4939-80b3-7b39cf610a78",
   "metadata": {},
   "outputs": [],
   "source": [
    "nearest_atoms"
   ]
  },
  {
   "cell_type": "code",
   "execution_count": null,
   "id": "ee3cd3b0-98fd-48ea-8b30-cefa62abf6bd",
   "metadata": {},
   "outputs": [],
   "source": [
    "adsorb_site_surrounded_six_all"
   ]
  },
  {
   "cell_type": "code",
   "execution_count": null,
   "id": "7223a977-e0aa-49a5-bec9-62dbe2ef889d",
   "metadata": {},
   "outputs": [],
   "source": [
    "view(super_structure)"
   ]
  },
  {
   "cell_type": "code",
   "execution_count": null,
   "id": "f2768f5f-616f-4431-a81c-418f7932f73a",
   "metadata": {},
   "outputs": [],
   "source": [
    "structure = read('F:/work in tohoku/a_research_work/i_Nottingham_Ling/alloy+H-dft-POSCAR/POSCAR.0.1 ')"
   ]
  },
  {
   "cell_type": "code",
   "execution_count": null,
   "id": "3ff46b55-d008-45f4-889f-bd87589ac39d",
   "metadata": {},
   "outputs": [],
   "source": [
    "super_structure = structure * (2, 2, 1)"
   ]
  },
  {
   "cell_type": "code",
   "execution_count": null,
   "id": "03311543-ba76-4fb0-8b86-c8a5248b666c",
   "metadata": {},
   "outputs": [],
   "source": [
    "view(super_structure)"
   ]
  },
  {
   "cell_type": "code",
   "execution_count": null,
   "id": "0236af6a-6470-4246-ad2b-2164fc2d1eca",
   "metadata": {},
   "outputs": [],
   "source": [
    "super_structure = read('F:/work in tohoku/a_research_work/i_Nottingham_Ling/POSCAR00-repeat.vasp')"
   ]
  },
  {
   "cell_type": "code",
   "execution_count": null,
   "id": "d98d9626-d271-415d-8fa5-aef2d5550dea",
   "metadata": {},
   "outputs": [],
   "source": [
    "write('F:/work in tohoku/a_research_work/i_Nottingham_Ling/POSCAR00-repeat.vasp', structure * (2, 2, 1), direct=False,sort=True)"
   ]
  },
  {
   "cell_type": "code",
   "execution_count": null,
   "id": "83f37e0d-f76b-444f-83de-aa336733acf5",
   "metadata": {},
   "outputs": [],
   "source": [
    "H_positions = H_position(super_structure)\n",
    "H_layer_index = [i for i, atom in enumerate(super_structure) if atom.symbol == 'H']"
   ]
  },
  {
   "cell_type": "code",
   "execution_count": null,
   "id": "f4476e33-1755-4c91-a249-3e61b23c12c1",
   "metadata": {},
   "outputs": [],
   "source": [
    "second_nearest_atoms[0][1]"
   ]
  },
  {
   "cell_type": "code",
   "execution_count": null,
   "id": "5ee91111-25ab-4ec9-828b-5d6fdc26ad43",
   "metadata": {},
   "outputs": [],
   "source": [
    "H_layer_index"
   ]
  },
  {
   "cell_type": "code",
   "execution_count": null,
   "id": "2ad332a7-dcad-4dc2-b96d-72ee06abcd00",
   "metadata": {},
   "outputs": [],
   "source": [
    "super_structure[0]"
   ]
  },
  {
   "cell_type": "code",
   "execution_count": null,
   "id": "13cc6838-3298-428c-bdc6-6ca98e82a422",
   "metadata": {},
   "outputs": [],
   "source": [
    "H_positions"
   ]
  },
  {
   "cell_type": "code",
   "execution_count": null,
   "id": "fac1edc4-faf9-4672-b688-dc66abab061f",
   "metadata": {},
   "outputs": [],
   "source": []
  },
  {
   "cell_type": "code",
   "execution_count": null,
   "id": "610b1316-1c35-4477-b9f2-21980a44e8f6",
   "metadata": {},
   "outputs": [],
   "source": [
    "top_layer_index, second_layer_index,top_layer_atoms,second_layer_atoms = top_second_layer(super_structure,all_atoms,metal_atoms,H_positions)"
   ]
  },
  {
   "cell_type": "code",
   "execution_count": null,
   "id": "eec719d2-855b-4ad9-9a55-00f7690d5e82",
   "metadata": {},
   "outputs": [],
   "source": []
  },
  {
   "cell_type": "code",
   "execution_count": null,
   "id": "17db489c-8b83-4f2d-bfe6-48cf6607c5de",
   "metadata": {},
   "outputs": [],
   "source": [
    "len(top_layer_atoms)"
   ]
  },
  {
   "cell_type": "code",
   "execution_count": null,
   "id": "51d14907-655c-4c2e-b27d-1f50b4b92a5d",
   "metadata": {},
   "outputs": [],
   "source": []
  },
  {
   "cell_type": "code",
   "execution_count": null,
   "id": "db2b0bee-4abb-45dc-ab37-95e653be5beb",
   "metadata": {},
   "outputs": [],
   "source": [
    "adsorb_site_index, six_surround_index_name_distance = get_adsorb_site_surrounded_six(H_positions,top_layer_atoms,top_layer_index)"
   ]
  },
  {
   "cell_type": "code",
   "execution_count": null,
   "id": "4c1d14a8-13ce-4d86-b694-45c186e2fb89",
   "metadata": {},
   "outputs": [],
   "source": []
  },
  {
   "cell_type": "code",
   "execution_count": null,
   "id": "1aa44114-a53e-4282-9e80-c61604edfbaa",
   "metadata": {},
   "outputs": [],
   "source": [
    "atom_list"
   ]
  },
  {
   "cell_type": "code",
   "execution_count": null,
   "id": "b8ad69de-895d-4f63-9a1f-e690e165410d",
   "metadata": {},
   "outputs": [],
   "source": [
    "first_atom = atom_list[0:3]"
   ]
  },
  {
   "cell_type": "code",
   "execution_count": null,
   "id": "b8392804-c5b8-4549-ac89-16d0545a9d64",
   "metadata": {},
   "outputs": [],
   "source": [
    "from itertools import combinations_with_replacement\n",
    "\n",
    "metal_atoms = ['Cr', 'Mn', 'Fe', 'Co', 'Ni', 'Cu']\n",
    "combinations = list(combinations_with_replacement(metal_atoms, 3))"
   ]
  },
  {
   "cell_type": "code",
   "execution_count": null,
   "id": "3a73a60b-1a56-4dc1-862f-f834be81f5d9",
   "metadata": {},
   "outputs": [],
   "source": [
    "adsorb_site_index"
   ]
  },
  {
   "cell_type": "code",
   "execution_count": null,
   "id": "336670e2-6256-4c3b-a703-9569c82db0fc",
   "metadata": {},
   "outputs": [],
   "source": [
    "feature_combinations = []\n",
    "for i in range(len(combinations)):\n",
    "    com_i = combinations[i]\n",
    "    sorted_com_i = sorted(com_i)\n",
    "    sorted_first_atom = sorted(first_atom)\n",
    "    if sorted_first_atom == sorted_com_i:\n",
    "        feature_combinations.append(1)\n",
    "    else:\n",
    "        feature_combinations.append(0)        "
   ]
  },
  {
   "cell_type": "code",
   "execution_count": null,
   "id": "a0fc9ae7-bc51-4804-98ba-96637341eca5",
   "metadata": {},
   "outputs": [],
   "source": [
    "pd.DataFrame(feature_combinations).T"
   ]
  },
  {
   "cell_type": "code",
   "execution_count": null,
   "id": "7e8b91d8-ca9c-4930-a1d7-bb4137c3de25",
   "metadata": {},
   "outputs": [],
   "source": [
    "second_atom = atom_list[3:]"
   ]
  },
  {
   "cell_type": "code",
   "execution_count": null,
   "id": "1f2f315d-a494-4727-9171-9c0edacd8215",
   "metadata": {},
   "outputs": [],
   "source": [
    "count = six_surround_index_name_distance[3:]"
   ]
  },
  {
   "cell_type": "code",
   "execution_count": null,
   "id": "a13412d0-885b-4af3-ac41-d774b9a7fabc",
   "metadata": {},
   "outputs": [],
   "source": [
    "def count_atom_number(index_name_distance):\n",
    "    atom_counts = {}\n",
    "    # 遍历数据并统计每种原子的数量\n",
    "    for item in index_name_distance:\n",
    "        atom = item[1]  # 获取原子的符号\n",
    "        if atom in atom_counts:\n",
    "            atom_counts[atom] += 1  # 如果原子已经在字典中，则将计数加1\n",
    "        else:\n",
    "            atom_counts[atom] = 1  # 如果原子不在字典中，则将计数初始化为1\n",
    "    return atom_counts"
   ]
  },
  {
   "cell_type": "code",
   "execution_count": null,
   "id": "5d7e1e2a-7840-43e5-915f-25f51720ae70",
   "metadata": {},
   "outputs": [],
   "source": [
    "atom_counts = count_atom_number(count)"
   ]
  },
  {
   "cell_type": "code",
   "execution_count": null,
   "id": "7fe07054-cf9e-4e3e-9553-10bd182ab6fe",
   "metadata": {},
   "outputs": [],
   "source": [
    "atom_counts"
   ]
  },
  {
   "cell_type": "code",
   "execution_count": null,
   "id": "2b7c40c7-a1ad-4805-a95a-9fb63e20f598",
   "metadata": {},
   "outputs": [],
   "source": [
    "for m_k in metal_atoms:\n",
    "    if m_k in atom_counts_six_top:\n",
    "        atom_count = atom_counts_six_top[m_k]\n",
    "        features.append(atom_count)\n",
    "    else:\n",
    "        features.append(0)"
   ]
  },
  {
   "cell_type": "code",
   "execution_count": null,
   "id": "10f099ee-381f-4783-85e3-e5c246135d90",
   "metadata": {},
   "outputs": [],
   "source": [
    "six_surround_index_name_distance"
   ]
  },
  {
   "cell_type": "code",
   "execution_count": null,
   "id": "2c6e060b-fb5a-46fb-b054-4ee924cefdb4",
   "metadata": {},
   "outputs": [],
   "source": []
  },
  {
   "cell_type": "code",
   "execution_count": null,
   "id": "da4e074f-7e98-4ca3-9301-e4cf50e71725",
   "metadata": {},
   "outputs": [],
   "source": [
    "second_nearest_atoms = get_surround_three_second(super_structure,second_layer_atoms,adsorb_site_index)"
   ]
  },
  {
   "cell_type": "code",
   "execution_count": null,
   "id": "99580534-1109-4036-865d-60f830018bcd",
   "metadata": {},
   "outputs": [],
   "source": [
    "second_nearest_atoms"
   ]
  },
  {
   "cell_type": "code",
   "execution_count": null,
   "id": "82f0be98-aba7-4704-8c54-95cbe3cbb5f5",
   "metadata": {},
   "outputs": [],
   "source": [
    "H_layer_index"
   ]
  },
  {
   "cell_type": "code",
   "execution_count": null,
   "id": "d2402f01-13aa-4f3a-96ff-d9a811e1dd20",
   "metadata": {},
   "outputs": [],
   "source": [
    "structure = read('F:/work in tohoku/a_research_work/i_Nottingham_Ling/alloy+H-dft-POSCAR/POSCAR.18.64')"
   ]
  },
  {
   "cell_type": "code",
   "execution_count": null,
   "id": "4453e32d-50f2-4160-9a20-ccb4b6868cbd",
   "metadata": {},
   "outputs": [],
   "source": [
    "super_structure = structure * (2, 2, 1)"
   ]
  },
  {
   "cell_type": "code",
   "execution_count": null,
   "id": "e729f014-195e-4d7f-be3c-0face104ea43",
   "metadata": {},
   "outputs": [],
   "source": [
    "view (super_structure)"
   ]
  },
  {
   "cell_type": "code",
   "execution_count": null,
   "id": "d8ffcb8a-7f96-4aec-9753-1c61428a5db8",
   "metadata": {},
   "outputs": [],
   "source": [
    "H_positions = H_position(super_structure)\n",
    "H_layer_index = [i for i, atom in enumerate(super_structure) if atom.symbol == 'H']"
   ]
  },
  {
   "cell_type": "code",
   "execution_count": null,
   "id": "90155dda-312d-4d7e-a719-9616525de02c",
   "metadata": {},
   "outputs": [],
   "source": [
    "top_layer_index, second_layer_index,top_layer_atoms,second_layer_atoms = top_second_layer(super_structure,all_atoms,metal_atoms,H_positions)"
   ]
  },
  {
   "cell_type": "code",
   "execution_count": null,
   "id": "df06aa1a-e327-4212-98a4-eeed6ffa2a19",
   "metadata": {},
   "outputs": [],
   "source": [
    "adsorb_site_index, six_surround_index_name_distance = get_adsorb_site_surrounded_six(H_positions,top_layer_atoms,top_layer_index)        \n",
    "second_nearest_atoms = get_surround_three_second(super_structure,second_layer_atoms,adsorb_site_index)\n",
    "first_layer_first_atom = get_first_three(six_surround_index_name_distance)\n",
    "first_layer_second_count = six_surround_index_name_distance[3:]        \n",
    "atom_counts_1_layersecond_top = count_atom_number(first_layer_second_count) "
   ]
  },
  {
   "cell_type": "code",
   "execution_count": null,
   "id": "b0ae124e-d88d-4b4f-ac98-8e8fd5096fea",
   "metadata": {},
   "outputs": [],
   "source": [
    "second_nearest_atoms"
   ]
  },
  {
   "cell_type": "code",
   "execution_count": null,
   "id": "ae47be54-18bb-4054-9852-596c1a256c48",
   "metadata": {},
   "outputs": [],
   "source": []
  }
 ],
 "metadata": {
  "kernelspec": {
   "display_name": "Python 3 (ipykernel)",
   "language": "python",
   "name": "python3"
  },
  "language_info": {
   "codemirror_mode": {
    "name": "ipython",
    "version": 3
   },
   "file_extension": ".py",
   "mimetype": "text/x-python",
   "name": "python",
   "nbconvert_exporter": "python",
   "pygments_lexer": "ipython3",
   "version": "3.9.19"
  }
 },
 "nbformat": 4,
 "nbformat_minor": 5
}
