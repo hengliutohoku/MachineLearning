{
 "cells": [
  {
   "cell_type": "code",
   "execution_count": 18,
   "id": "d0911959",
   "metadata": {},
   "outputs": [],
   "source": [
    "import pandas as pd\n",
    "import numpy as np\n",
    "from matminer.featurizers.conversions import StrToComposition\n",
    "from matminer.featurizers.base import MultipleFeaturizer\n",
    "from matminer.featurizers import composition as cf\n"
   ]
  },
  {
   "cell_type": "code",
   "execution_count": 19,
   "id": "fd15b29b",
   "metadata": {},
   "outputs": [],
   "source": [
    "def dataset(path): \n",
    "    data_pd = pd.read_excel(path,header = 0)\n",
    "    return data_pd"
   ]
  },
  {
   "cell_type": "code",
   "execution_count": 20,
   "id": "c8a1dbef",
   "metadata": {},
   "outputs": [],
   "source": [
    "def matminer_feature(data_pd,parameter):    \n",
    "    data_pd_str = StrToComposition().featurize_dataframe(data_pd, parameter,ignore_errors=True)\n",
    "    feature_calculators = MultipleFeaturizer([cf.AtomicOrbitals(),cf.AtomicPackingEfficiency(),#\n",
    "                                              cf.BandCenter(),#cf.CohesiveEnergy(),cf.ElectronAffinity(),\n",
    "                                              #cf.ElectronegativityDiff(),cf.ElementFraction(),\n",
    "                                              cf.Meredig(),cf.Miedema(),cf.YangSolidSolution(),\n",
    "                                              cf.Stoichiometry(), cf.ElementProperty.from_preset(\"magpie\"),\n",
    "                                              cf.ValenceOrbital(props=['avg']), cf.IonProperty(fast=True)])\n",
    "    feature_labels = feature_calculators.feature_labels()\n",
    "    data_with_features = feature_calculators.featurize_dataframe(data_pd_str, col_id='composition',ignore_errors=True)\n",
    "    return data_with_features"
   ]
  },
  {
   "cell_type": "code",
   "execution_count": 21,
   "id": "57296710",
   "metadata": {},
   "outputs": [
    {
     "data": {
      "application/vnd.jupyter.widget-view+json": {
       "model_id": "7f7efa0cfc1f4cea91f7ad047d799149",
       "version_major": 2,
       "version_minor": 0
      },
      "text/plain": [
       "StrToComposition:   0%|          | 0/3 [00:00<?, ?it/s]"
      ]
     },
     "metadata": {},
     "output_type": "display_data"
    },
    {
     "data": {
      "application/vnd.jupyter.widget-view+json": {
       "model_id": "bfa865d63621414bb362ce5cc825d955",
       "version_major": 2,
       "version_minor": 0
      },
      "text/plain": [
       "MultipleFeaturizer:   0%|          | 0/3 [00:00<?, ?it/s]"
      ]
     },
     "metadata": {},
     "output_type": "display_data"
    }
   ],
   "source": [
    "path = r'D:/Work in Tohoku/TE/pu-update/data.xlsx'\n",
    "parameter = \"pretty_formula\"\n",
    "data_pd = dataset(path)\n",
    "data_with_features = matminer_feature(data_pd,parameter)"
   ]
  },
  {
   "cell_type": "code",
   "execution_count": 22,
   "id": "7fa62983",
   "metadata": {},
   "outputs": [
    {
     "data": {
      "text/html": [
       "<div>\n",
       "<style scoped>\n",
       "    .dataframe tbody tr th:only-of-type {\n",
       "        vertical-align: middle;\n",
       "    }\n",
       "\n",
       "    .dataframe tbody tr th {\n",
       "        vertical-align: top;\n",
       "    }\n",
       "\n",
       "    .dataframe thead th {\n",
       "        text-align: right;\n",
       "    }\n",
       "</style>\n",
       "<table border=\"1\" class=\"dataframe\">\n",
       "  <thead>\n",
       "    <tr style=\"text-align: right;\">\n",
       "      <th></th>\n",
       "      <th>Unnamed: 0</th>\n",
       "      <th>pretty_formula</th>\n",
       "      <th>composition</th>\n",
       "      <th>HOMO_character</th>\n",
       "      <th>HOMO_element</th>\n",
       "      <th>HOMO_energy</th>\n",
       "      <th>LUMO_character</th>\n",
       "      <th>LUMO_element</th>\n",
       "      <th>LUMO_energy</th>\n",
       "      <th>gap_AO</th>\n",
       "      <th>...</th>\n",
       "      <th>avg s valence electrons</th>\n",
       "      <th>avg p valence electrons</th>\n",
       "      <th>avg p valence electrons</th>\n",
       "      <th>avg d valence electrons</th>\n",
       "      <th>avg d valence electrons</th>\n",
       "      <th>avg f valence electrons</th>\n",
       "      <th>avg f valence electrons</th>\n",
       "      <th>compound possible</th>\n",
       "      <th>max ionic char</th>\n",
       "      <th>avg ionic char</th>\n",
       "    </tr>\n",
       "  </thead>\n",
       "  <tbody>\n",
       "    <tr>\n",
       "      <th>0</th>\n",
       "      <td>0</td>\n",
       "      <td>Ag(Mo3S4)2</td>\n",
       "      <td>(Ag, Mo, S)</td>\n",
       "      <td>d</td>\n",
       "      <td>Mo</td>\n",
       "      <td>-0.153347</td>\n",
       "      <td>d</td>\n",
       "      <td>Mo</td>\n",
       "      <td>-0.153347</td>\n",
       "      <td>0.000000</td>\n",
       "      <td>...</td>\n",
       "      <td>1.533333</td>\n",
       "      <td>2.133333</td>\n",
       "      <td>2.133333</td>\n",
       "      <td>2.666667</td>\n",
       "      <td>2.666667</td>\n",
       "      <td>0.0</td>\n",
       "      <td>0.0</td>\n",
       "      <td>False</td>\n",
       "      <td>0.100238</td>\n",
       "      <td>0.013118</td>\n",
       "    </tr>\n",
       "    <tr>\n",
       "      <th>1</th>\n",
       "      <td>1</td>\n",
       "      <td>Ag2S</td>\n",
       "      <td>(Ag, S)</td>\n",
       "      <td>p</td>\n",
       "      <td>S</td>\n",
       "      <td>-0.261676</td>\n",
       "      <td>s</td>\n",
       "      <td>Ag</td>\n",
       "      <td>-0.157407</td>\n",
       "      <td>0.104269</td>\n",
       "      <td>...</td>\n",
       "      <td>1.333333</td>\n",
       "      <td>1.333333</td>\n",
       "      <td>1.333333</td>\n",
       "      <td>6.666667</td>\n",
       "      <td>6.666667</td>\n",
       "      <td>0.0</td>\n",
       "      <td>0.0</td>\n",
       "      <td>True</td>\n",
       "      <td>0.100238</td>\n",
       "      <td>0.022275</td>\n",
       "    </tr>\n",
       "    <tr>\n",
       "      <th>2</th>\n",
       "      <td>2</td>\n",
       "      <td>Ag2Se</td>\n",
       "      <td>(Ag, Se)</td>\n",
       "      <td>p</td>\n",
       "      <td>Se</td>\n",
       "      <td>-0.245806</td>\n",
       "      <td>s</td>\n",
       "      <td>Ag</td>\n",
       "      <td>-0.157407</td>\n",
       "      <td>0.088399</td>\n",
       "      <td>...</td>\n",
       "      <td>1.333333</td>\n",
       "      <td>1.333333</td>\n",
       "      <td>1.333333</td>\n",
       "      <td>10.000000</td>\n",
       "      <td>10.000000</td>\n",
       "      <td>0.0</td>\n",
       "      <td>0.0</td>\n",
       "      <td>True</td>\n",
       "      <td>0.091627</td>\n",
       "      <td>0.020362</td>\n",
       "    </tr>\n",
       "  </tbody>\n",
       "</table>\n",
       "<p>3 rows × 294 columns</p>\n",
       "</div>"
      ],
      "text/plain": [
       "   Unnamed: 0 pretty_formula  composition HOMO_character HOMO_element  \\\n",
       "0           0     Ag(Mo3S4)2  (Ag, Mo, S)              d           Mo   \n",
       "1           1           Ag2S      (Ag, S)              p            S   \n",
       "2           2          Ag2Se     (Ag, Se)              p           Se   \n",
       "\n",
       "   HOMO_energy LUMO_character LUMO_element  LUMO_energy    gap_AO  ...  \\\n",
       "0    -0.153347              d           Mo    -0.153347  0.000000  ...   \n",
       "1    -0.261676              s           Ag    -0.157407  0.104269  ...   \n",
       "2    -0.245806              s           Ag    -0.157407  0.088399  ...   \n",
       "\n",
       "   avg s valence electrons  avg p valence electrons  avg p valence electrons  \\\n",
       "0                 1.533333                 2.133333                 2.133333   \n",
       "1                 1.333333                 1.333333                 1.333333   \n",
       "2                 1.333333                 1.333333                 1.333333   \n",
       "\n",
       "   avg d valence electrons  avg d valence electrons  avg f valence electrons  \\\n",
       "0                 2.666667                 2.666667                      0.0   \n",
       "1                 6.666667                 6.666667                      0.0   \n",
       "2                10.000000                10.000000                      0.0   \n",
       "\n",
       "   avg f valence electrons  compound possible  max ionic char  avg ionic char  \n",
       "0                      0.0              False        0.100238        0.013118  \n",
       "1                      0.0               True        0.100238        0.022275  \n",
       "2                      0.0               True        0.091627        0.020362  \n",
       "\n",
       "[3 rows x 294 columns]"
      ]
     },
     "execution_count": 22,
     "metadata": {},
     "output_type": "execute_result"
    }
   ],
   "source": [
    "data_with_features"
   ]
  },
  {
   "cell_type": "code",
   "execution_count": null,
   "id": "93562798",
   "metadata": {},
   "outputs": [],
   "source": []
  }
 ],
 "metadata": {
  "kernelspec": {
   "display_name": "Python 3 (ipykernel)",
   "language": "python",
   "name": "python3"
  },
  "language_info": {
   "codemirror_mode": {
    "name": "ipython",
    "version": 3
   },
   "file_extension": ".py",
   "mimetype": "text/x-python",
   "name": "python",
   "nbconvert_exporter": "python",
   "pygments_lexer": "ipython3",
   "version": "3.9.12"
  }
 },
 "nbformat": 4,
 "nbformat_minor": 5
}
